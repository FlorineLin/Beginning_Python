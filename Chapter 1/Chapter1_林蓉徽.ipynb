{
 "cells": [
  {
   "cell_type": "markdown",
   "id": "b89a1ad0-5518-4045-a1a5-4e90f3cd9b0b",
   "metadata": {},
   "source": [
    "# Beginning Python"
   ]
  },
  {
   "cell_type": "markdown",
   "id": "19c3e452-a760-42ec-9c1a-34a62ccf8702",
   "metadata": {},
   "source": [
    "## Chapter 1"
   ]
  },
  {
   "cell_type": "code",
   "execution_count": 1,
   "id": "6b008583-1744-4a9a-8842-a999c09482bd",
   "metadata": {},
   "outputs": [
    {
     "name": "stdout",
     "output_type": "stream",
     "text": [
      "hello,world\n"
     ]
    }
   ],
   "source": [
    "print(\"hello,world\")"
   ]
  },
  {
   "cell_type": "code",
   "execution_count": 2,
   "id": "b9de8d90-d0e2-43d3-bab5-fb8468edbdc9",
   "metadata": {},
   "outputs": [
    {
     "ename": "SyntaxError",
     "evalue": "invalid syntax (672368992.py, line 1)",
     "output_type": "error",
     "traceback": [
      "\u001b[1;36m  Cell \u001b[1;32mIn[2], line 1\u001b[1;36m\u001b[0m\n\u001b[1;33m    The Spanish Inquisition\u001b[0m\n\u001b[1;37m        ^\u001b[0m\n\u001b[1;31mSyntaxError\u001b[0m\u001b[1;31m:\u001b[0m invalid syntax\n"
     ]
    }
   ],
   "source": [
    "The Spanish Inquisition"
   ]
  },
  {
   "cell_type": "code",
   "execution_count": 3,
   "id": "e3af2223-0bc5-416e-a45e-3de23dabee4c",
   "metadata": {},
   "outputs": [
    {
     "data": {
      "text/plain": [
       "4"
      ]
     },
     "execution_count": 3,
     "metadata": {},
     "output_type": "execute_result"
    }
   ],
   "source": [
    "2+2"
   ]
  },
  {
   "cell_type": "code",
   "execution_count": 4,
   "id": "384eb4f5-8425-4da7-ac04-68c695ee2504",
   "metadata": {},
   "outputs": [
    {
     "data": {
      "text/plain": [
       "288925"
      ]
     },
     "execution_count": 4,
     "metadata": {},
     "output_type": "execute_result"
    }
   ],
   "source": [
    "53672+235253"
   ]
  },
  {
   "cell_type": "markdown",
   "id": "e9662126-22ee-4491-98c1-61d50a5b7602",
   "metadata": {},
   "source": [
    "可以当计算器用"
   ]
  },
  {
   "cell_type": "code",
   "execution_count": 5,
   "id": "046682c6-f23d-48b0-8e68-3b36b481b424",
   "metadata": {},
   "outputs": [
    {
     "data": {
      "text/plain": [
       "0.5"
      ]
     },
     "execution_count": 5,
     "metadata": {},
     "output_type": "execute_result"
    }
   ],
   "source": [
    "1/2"
   ]
  },
  {
   "cell_type": "code",
   "execution_count": 6,
   "id": "841832f5-9a59-47e6-b520-9b17f578f1d5",
   "metadata": {},
   "outputs": [
    {
     "data": {
      "text/plain": [
       "1.0"
      ]
     },
     "execution_count": 6,
     "metadata": {},
     "output_type": "execute_result"
    }
   ],
   "source": [
    "1/1"
   ]
  },
  {
   "cell_type": "code",
   "execution_count": 7,
   "id": "21c48b08-a700-4258-b214-57a62c74ef9e",
   "metadata": {},
   "outputs": [
    {
     "data": {
      "text/plain": [
       "0"
      ]
     },
     "execution_count": 7,
     "metadata": {},
     "output_type": "execute_result"
    }
   ],
   "source": [
    "1//2"
   ]
  },
  {
   "cell_type": "code",
   "execution_count": 8,
   "id": "2ecf9e91-6bf0-4120-858b-b81943c8b180",
   "metadata": {},
   "outputs": [
    {
     "data": {
      "text/plain": [
       "1"
      ]
     },
     "execution_count": 8,
     "metadata": {},
     "output_type": "execute_result"
    }
   ],
   "source": [
    "1//1"
   ]
  },
  {
   "cell_type": "code",
   "execution_count": 9,
   "id": "230200ba-ca01-4a75-a482-16f6666705d8",
   "metadata": {},
   "outputs": [
    {
     "data": {
      "text/plain": [
       "2.0"
      ]
     },
     "execution_count": 9,
     "metadata": {},
     "output_type": "execute_result"
    }
   ],
   "source": [
    "5.0//2.4"
   ]
  },
  {
   "cell_type": "code",
   "execution_count": 10,
   "id": "b7d787f5-fa4f-44e6-95fb-a48b3ebc269f",
   "metadata": {},
   "outputs": [
    {
     "data": {
      "text/plain": [
       "1"
      ]
     },
     "execution_count": 10,
     "metadata": {},
     "output_type": "execute_result"
    }
   ],
   "source": [
    "1%2"
   ]
  },
  {
   "cell_type": "code",
   "execution_count": 11,
   "id": "732456c4-cd17-48ba-89e4-a39b9de70e0c",
   "metadata": {},
   "outputs": [
    {
     "data": {
      "text/plain": [
       "3"
      ]
     },
     "execution_count": 11,
     "metadata": {},
     "output_type": "execute_result"
    }
   ],
   "source": [
    "10//3"
   ]
  },
  {
   "cell_type": "code",
   "execution_count": 12,
   "id": "e9044c99-9dee-4d52-a18e-9d911844aec6",
   "metadata": {},
   "outputs": [
    {
     "data": {
      "text/plain": [
       "3"
      ]
     },
     "execution_count": 12,
     "metadata": {},
     "output_type": "execute_result"
    }
   ],
   "source": [
    "9//3"
   ]
  },
  {
   "cell_type": "code",
   "execution_count": 13,
   "id": "1df8daad-7cee-4130-8b36-081d31af3438",
   "metadata": {},
   "outputs": [
    {
     "data": {
      "text/plain": [
       "0"
      ]
     },
     "execution_count": 13,
     "metadata": {},
     "output_type": "execute_result"
    }
   ],
   "source": [
    "9%3"
   ]
  },
  {
   "cell_type": "code",
   "execution_count": 14,
   "id": "e8e728d4-4d29-42d3-9d17-ce96305df1e5",
   "metadata": {},
   "outputs": [
    {
     "data": {
      "text/plain": [
       "1"
      ]
     },
     "execution_count": 14,
     "metadata": {},
     "output_type": "execute_result"
    }
   ],
   "source": [
    "10%3"
   ]
  },
  {
   "cell_type": "code",
   "execution_count": 15,
   "id": "a002f159-65ad-485e-834d-22baa5255850",
   "metadata": {},
   "outputs": [
    {
     "data": {
      "text/plain": [
       "0.25"
      ]
     },
     "execution_count": 15,
     "metadata": {},
     "output_type": "execute_result"
    }
   ],
   "source": [
    "2.75%0.5"
   ]
  },
  {
   "cell_type": "markdown",
   "id": "ae6a85c0-e574-4cbd-b58c-88099c6e4ce8",
   "metadata": {},
   "source": [
    "x%y=x-((x//y)*y)"
   ]
  },
  {
   "cell_type": "code",
   "execution_count": 16,
   "id": "814aeeb8-1fa7-414e-bc38-0a271ee6099f",
   "metadata": {},
   "outputs": [
    {
     "data": {
      "text/plain": [
       "1"
      ]
     },
     "execution_count": 16,
     "metadata": {},
     "output_type": "execute_result"
    }
   ],
   "source": [
    "10%3"
   ]
  },
  {
   "cell_type": "code",
   "execution_count": 17,
   "id": "222301fe-b39e-4ea3-87d4-282cd32fa98e",
   "metadata": {},
   "outputs": [
    {
     "data": {
      "text/plain": [
       "-2"
      ]
     },
     "execution_count": 17,
     "metadata": {},
     "output_type": "execute_result"
    }
   ],
   "source": [
    "10%-3"
   ]
  },
  {
   "cell_type": "code",
   "execution_count": 18,
   "id": "73eb4726-c51e-48b7-a627-5b6a778b4bba",
   "metadata": {},
   "outputs": [
    {
     "data": {
      "text/plain": [
       "2"
      ]
     },
     "execution_count": 18,
     "metadata": {},
     "output_type": "execute_result"
    }
   ],
   "source": [
    "-10%3"
   ]
  },
  {
   "cell_type": "code",
   "execution_count": 19,
   "id": "1d19d9d9-3ec1-4dec-bd9d-434a8fd90795",
   "metadata": {},
   "outputs": [
    {
     "data": {
      "text/plain": [
       "-1"
      ]
     },
     "execution_count": 19,
     "metadata": {},
     "output_type": "execute_result"
    }
   ],
   "source": [
    "-10%-3"
   ]
  },
  {
   "cell_type": "code",
   "execution_count": 20,
   "id": "2bfc3dd2-7dc1-475b-b97c-26f97710144a",
   "metadata": {},
   "outputs": [
    {
     "data": {
      "text/plain": [
       "3"
      ]
     },
     "execution_count": 20,
     "metadata": {},
     "output_type": "execute_result"
    }
   ],
   "source": [
    "10//3"
   ]
  },
  {
   "cell_type": "code",
   "execution_count": 21,
   "id": "ecc529b5-0af6-44f4-a243-4e37782b8b55",
   "metadata": {},
   "outputs": [
    {
     "data": {
      "text/plain": [
       "-4"
      ]
     },
     "execution_count": 21,
     "metadata": {},
     "output_type": "execute_result"
    }
   ],
   "source": [
    "10//-3"
   ]
  },
  {
   "cell_type": "code",
   "execution_count": 22,
   "id": "39fad988-2819-46ab-b11e-fb44fbaf9169",
   "metadata": {},
   "outputs": [
    {
     "data": {
      "text/plain": [
       "-4"
      ]
     },
     "execution_count": 22,
     "metadata": {},
     "output_type": "execute_result"
    }
   ],
   "source": [
    "-10//3"
   ]
  },
  {
   "cell_type": "code",
   "execution_count": 23,
   "id": "3f5b554a-9642-4df5-878a-6e50897836a2",
   "metadata": {},
   "outputs": [
    {
     "data": {
      "text/plain": [
       "3"
      ]
     },
     "execution_count": 23,
     "metadata": {},
     "output_type": "execute_result"
    }
   ],
   "source": [
    "-10//-3"
   ]
  },
  {
   "cell_type": "markdown",
   "id": "9f8636ff-a4c6-4747-97ee-dd7e1eb2a9a0",
   "metadata": {},
   "source": [
    "- 10 // 3 是向下取整为 - 4，而不是向上取整为 - 3\n",
    "关于整数除法，需要理解的重要一点是它会向下取整，这对于负数来说就是向远离零的方向取整。"
   ]
  },
  {
   "cell_type": "code",
   "execution_count": 24,
   "id": "b0a1087c-c079-4fe5-ba20-46ce226b49db",
   "metadata": {},
   "outputs": [
    {
     "data": {
      "text/plain": [
       "8"
      ]
     },
     "execution_count": 24,
     "metadata": {},
     "output_type": "execute_result"
    }
   ],
   "source": [
    "2**3"
   ]
  },
  {
   "cell_type": "code",
   "execution_count": 25,
   "id": "61c16727-14fd-4a3a-8ad8-4638a425ee2f",
   "metadata": {},
   "outputs": [
    {
     "data": {
      "text/plain": [
       "-9"
      ]
     },
     "execution_count": 25,
     "metadata": {},
     "output_type": "execute_result"
    }
   ],
   "source": [
    "-3**2"
   ]
  },
  {
   "cell_type": "code",
   "execution_count": 26,
   "id": "d12a8b7c-c9f3-425f-8cb4-f8a508a850da",
   "metadata": {},
   "outputs": [
    {
     "data": {
      "text/plain": [
       "9"
      ]
     },
     "execution_count": 26,
     "metadata": {},
     "output_type": "execute_result"
    }
   ],
   "source": [
    "(-3)**2"
   ]
  },
  {
   "cell_type": "markdown",
   "id": "34649d33-73a1-4230-975f-7b6f8aba75d4",
   "metadata": {},
   "source": [
    "**是幂次方的意思"
   ]
  },
  {
   "cell_type": "markdown",
   "id": "c69d3bb6-9bfd-46ff-bcf9-dcfaf4db0d04",
   "metadata": {},
   "source": [
    "-3**2=-（3**2）所以要注意负号的位置与含义"
   ]
  },
  {
   "cell_type": "code",
   "execution_count": 29,
   "id": "c0dbdc28-0546-4cae-a9c2-273ef7c9e83d",
   "metadata": {},
   "outputs": [
    {
     "data": {
      "text/plain": [
       "175"
      ]
     },
     "execution_count": 29,
     "metadata": {},
     "output_type": "execute_result"
    }
   ],
   "source": [
    "0xAF"
   ]
  },
  {
   "cell_type": "markdown",
   "id": "3d05a08c-b223-4d4d-9f5f-dc42f4fa1b39",
   "metadata": {},
   "source": [
    "十六进制"
   ]
  },
  {
   "cell_type": "code",
   "execution_count": 30,
   "id": "48241b81-3dab-4508-9cd2-9d1ed6f02a25",
   "metadata": {},
   "outputs": [
    {
     "ename": "NameError",
     "evalue": "name 'ob10' is not defined",
     "output_type": "error",
     "traceback": [
      "\u001b[1;31m---------------------------------------------------------------------------\u001b[0m",
      "\u001b[1;31mNameError\u001b[0m                                 Traceback (most recent call last)",
      "Cell \u001b[1;32mIn[30], line 1\u001b[0m\n\u001b[1;32m----> 1\u001b[0m ob10\n",
      "\u001b[1;31mNameError\u001b[0m: name 'ob10' is not defined"
     ]
    }
   ],
   "source": [
    "ob10"
   ]
  },
  {
   "cell_type": "code",
   "execution_count": 31,
   "id": "998ac4c5-812a-4f84-b792-1dfe36af726d",
   "metadata": {},
   "outputs": [
    {
     "data": {
      "text/plain": [
       "2"
      ]
     },
     "execution_count": 31,
     "metadata": {},
     "output_type": "execute_result"
    }
   ],
   "source": [
    "0b10"
   ]
  },
  {
   "cell_type": "markdown",
   "id": "7ad743ef-8637-4194-8d1e-545350b77ba1",
   "metadata": {},
   "source": [
    "八进制"
   ]
  },
  {
   "cell_type": "code",
   "execution_count": 32,
   "id": "aacebf86-17c6-4fae-a3b7-5701410fc965",
   "metadata": {},
   "outputs": [
    {
     "data": {
      "text/plain": [
       "722"
      ]
     },
     "execution_count": 32,
     "metadata": {},
     "output_type": "execute_result"
    }
   ],
   "source": [
    "0b1011010010"
   ]
  },
  {
   "cell_type": "markdown",
   "id": "539448a2-13c1-4c83-a3fa-2a61c54bc187",
   "metadata": {},
   "source": [
    "二进制"
   ]
  },
  {
   "cell_type": "markdown",
   "id": "5d965534-cd34-4d76-8b95-2c2116323905",
   "metadata": {},
   "source": [
    "The first digit in both of these is zero. "
   ]
  },
  {
   "cell_type": "code",
   "execution_count": 33,
   "id": "8c70342b-8a89-4333-9297-b3bc69041453",
   "metadata": {},
   "outputs": [
    {
     "data": {
      "text/plain": [
       "6"
      ]
     },
     "execution_count": 33,
     "metadata": {},
     "output_type": "execute_result"
    }
   ],
   "source": [
    "x=3\n",
    "x*2"
   ]
  },
  {
   "cell_type": "code",
   "execution_count": 34,
   "id": "e13924dd-fee2-43b4-b74b-13a3c79d0048",
   "metadata": {},
   "outputs": [
    {
     "data": {
      "text/plain": [
       "4"
      ]
     },
     "execution_count": 34,
     "metadata": {},
     "output_type": "execute_result"
    }
   ],
   "source": [
    "2*2"
   ]
  },
  {
   "cell_type": "code",
   "execution_count": 35,
   "id": "87c03e24-9bd7-4096-a9bd-219613b86407",
   "metadata": {},
   "outputs": [
    {
     "name": "stdout",
     "output_type": "stream",
     "text": [
      "4\n"
     ]
    }
   ],
   "source": [
    "print(2*2)"
   ]
  },
  {
   "cell_type": "markdown",
   "id": "27fcc0db-0bd7-4d52-ab07-0090c37eb032",
   "metadata": {},
   "source": [
    "print is a function "
   ]
  },
  {
   "cell_type": "code",
   "execution_count": 36,
   "id": "7a02be23-3608-48d9-af12-4d1cd52e61ca",
   "metadata": {},
   "outputs": [],
   "source": [
    "x=3"
   ]
  },
  {
   "cell_type": "code",
   "execution_count": 37,
   "id": "4f82c35e-41a8-498c-9607-14d73bce1eec",
   "metadata": {},
   "outputs": [
    {
     "ename": "SyntaxError",
     "evalue": "invalid syntax (726041252.py, line 2)",
     "output_type": "error",
     "traceback": [
      "\u001b[1;36m  Cell \u001b[1;32mIn[37], line 2\u001b[1;36m\u001b[0m\n\u001b[1;33m    The meaning of liife:42\u001b[0m\n\u001b[1;37m        ^\u001b[0m\n\u001b[1;31mSyntaxError\u001b[0m\u001b[1;31m:\u001b[0m invalid syntax\n"
     ]
    }
   ],
   "source": [
    "input(\"The meaning of life\")\n",
    "The meaning of liife:42"
   ]
  },
  {
   "cell_type": "code",
   "execution_count": 38,
   "id": "0f6cadd9-8e49-418e-9e50-db609db96fe3",
   "metadata": {},
   "outputs": [
    {
     "name": "stdin",
     "output_type": "stream",
     "text": [
      "The meaning of life 22\n"
     ]
    },
    {
     "data": {
      "text/plain": [
       "'22'"
      ]
     },
     "execution_count": 38,
     "metadata": {},
     "output_type": "execute_result"
    }
   ],
   "source": [
    "input(\"The meaning of life\")"
   ]
  },
  {
   "cell_type": "code",
   "execution_count": 39,
   "id": "5216a73d-49f4-4b86-8c91-56a40d16ea04",
   "metadata": {},
   "outputs": [
    {
     "name": "stdin",
     "output_type": "stream",
     "text": [
      "The meaning of life 42\n"
     ]
    },
    {
     "data": {
      "text/plain": [
       "'42'"
      ]
     },
     "execution_count": 39,
     "metadata": {},
     "output_type": "execute_result"
    }
   ],
   "source": [
    "input(\"The meaning of life\")"
   ]
  },
  {
   "cell_type": "markdown",
   "id": "2ba997d3-9312-42fb-8c39-eca15e8ad691",
   "metadata": {},
   "source": [
    "字符串 “The meaning of life:” 作为新的提示"
   ]
  },
  {
   "cell_type": "code",
   "execution_count": 40,
   "id": "6407c844-ee29-4894-a33b-81379837cec5",
   "metadata": {},
   "outputs": [
    {
     "name": "stdin",
     "output_type": "stream",
     "text": [
      "The meaning of life hello\n"
     ]
    },
    {
     "data": {
      "text/plain": [
       "'hello'"
      ]
     },
     "execution_count": 40,
     "metadata": {},
     "output_type": "execute_result"
    }
   ],
   "source": [
    "input(\"The meaning of life\")"
   ]
  },
  {
   "cell_type": "code",
   "execution_count": 41,
   "id": "4e5dd8e9-9384-40e7-b0fd-67b2157b7018",
   "metadata": {},
   "outputs": [
    {
     "name": "stdin",
     "output_type": "stream",
     "text": [
      "The meaning of life '你好'\n"
     ]
    },
    {
     "data": {
      "text/plain": [
       "\"'你好'\""
      ]
     },
     "execution_count": 41,
     "metadata": {},
     "output_type": "execute_result"
    }
   ],
   "source": [
    "input(\"The meaning of life\")"
   ]
  },
  {
   "cell_type": "code",
   "execution_count": 42,
   "id": "f1416b45-8f38-4ca7-a6c2-6c0c0e87f7c2",
   "metadata": {},
   "outputs": [
    {
     "name": "stdin",
     "output_type": "stream",
     "text": [
      "The meaning of life 南京大学\n"
     ]
    },
    {
     "data": {
      "text/plain": [
       "'南京大学'"
      ]
     },
     "execution_count": 42,
     "metadata": {},
     "output_type": "execute_result"
    }
   ],
   "source": [
    "input(\"The meaning of life\")\n"
   ]
  },
  {
   "cell_type": "code",
   "execution_count": 43,
   "id": "c37aef3c-b9ce-4ff8-8807-ccd26a785326",
   "metadata": {},
   "outputs": [
    {
     "name": "stdin",
     "output_type": "stream",
     "text": [
      "x: 34\n"
     ]
    }
   ],
   "source": [
    "x=input(\"x:\")"
   ]
  },
  {
   "cell_type": "code",
   "execution_count": 44,
   "id": "63322fd0-1456-4fa2-995d-fc12b2df1718",
   "metadata": {},
   "outputs": [
    {
     "name": "stdin",
     "output_type": "stream",
     "text": [
      "y: 42\n"
     ]
    }
   ],
   "source": [
    "y=input(\"y:\")\n"
   ]
  },
  {
   "cell_type": "code",
   "execution_count": 45,
   "id": "4441e97d-5415-421e-9d86-38069e9bf7e8",
   "metadata": {},
   "outputs": [
    {
     "name": "stdout",
     "output_type": "stream",
     "text": [
      "1428\n"
     ]
    }
   ],
   "source": [
    "print(int(x)*int(y))"
   ]
  },
  {
   "cell_type": "markdown",
   "id": "cfbf4cae-8790-4723-9c52-7bcce0ff57a9",
   "metadata": {},
   "source": [
    "int是转化为整数"
   ]
  },
  {
   "cell_type": "code",
   "execution_count": 46,
   "id": "20ca6938-ee22-4b00-9ff4-3c0eb3d47041",
   "metadata": {},
   "outputs": [
    {
     "ename": "SyntaxError",
     "evalue": "invalid character '：' (U+FF1A) (3062050430.py, line 1)",
     "output_type": "error",
     "traceback": [
      "\u001b[1;36m  Cell \u001b[1;32mIn[46], line 1\u001b[1;36m\u001b[0m\n\u001b[1;33m    if 1==2：print('One equals two')\u001b[0m\n\u001b[1;37m           ^\u001b[0m\n\u001b[1;31mSyntaxError\u001b[0m\u001b[1;31m:\u001b[0m invalid character '：' (U+FF1A)\n"
     ]
    }
   ],
   "source": [
    "if 1==2：print('One equals two')"
   ]
  },
  {
   "cell_type": "code",
   "execution_count": 47,
   "id": "dc773548-2145-4b01-8467-6f63ffc36dca",
   "metadata": {},
   "outputs": [
    {
     "ename": "SyntaxError",
     "evalue": "invalid character '：' (U+FF1A) (3253442449.py, line 1)",
     "output_type": "error",
     "traceback": [
      "\u001b[1;36m  Cell \u001b[1;32mIn[47], line 1\u001b[1;36m\u001b[0m\n\u001b[1;33m    if 1 == 2：print('One equals two')\u001b[0m\n\u001b[1;37m             ^\u001b[0m\n\u001b[1;31mSyntaxError\u001b[0m\u001b[1;31m:\u001b[0m invalid character '：' (U+FF1A)\n"
     ]
    }
   ],
   "source": [
    "if 1 == 2：print('One equals two')"
   ]
  },
  {
   "cell_type": "markdown",
   "id": "1603b2d2-6286-486d-83ee-565cbd2f97b9",
   "metadata": {},
   "source": [
    "当条件为假时，什么都不会发生。但当条件为真时，冒号后面的语句（在这个例子中是 print 语句）就会被执行"
   ]
  },
  {
   "cell_type": "markdown",
   "id": "766f9dfd-da4c-4562-8910-5537a53887f9",
   "metadata": {},
   "source": [
    "相等运算符是两个等号=="
   ]
  },
  {
   "cell_type": "code",
   "execution_count": 49,
   "id": "ec435a9a-5fe2-4372-888f-ccf78b05c0f0",
   "metadata": {},
   "outputs": [
    {
     "name": "stdout",
     "output_type": "stream",
     "text": [
      "One equals one\n"
     ]
    }
   ],
   "source": [
    "if 1==1:print('One equals one')"
   ]
  },
  {
   "cell_type": "code",
   "execution_count": 50,
   "id": "bfa7eeb6-84a0-4a5d-85b9-d384797e9c4f",
   "metadata": {},
   "outputs": [
    {
     "ename": "NameError",
     "evalue": "name 'time' is not defined",
     "output_type": "error",
     "traceback": [
      "\u001b[1;31m---------------------------------------------------------------------------\u001b[0m",
      "\u001b[1;31mNameError\u001b[0m                                 Traceback (most recent call last)",
      "Cell \u001b[1;32mIn[50], line 1\u001b[0m\n\u001b[1;32m----> 1\u001b[0m \u001b[38;5;28;01mif\u001b[39;00m time\u001b[38;5;241m%\u001b[39m\u001b[38;5;241m60\u001b[39m\u001b[38;5;241m==\u001b[39m\u001b[38;5;241m0\u001b[39m:\u001b[38;5;28mprint\u001b[39m(\u001b[38;5;124m'\u001b[39m\u001b[38;5;124mOn the hour\u001b[39m\u001b[38;5;124m'\u001b[39m)\n",
      "\u001b[1;31mNameError\u001b[0m: name 'time' is not defined"
     ]
    }
   ],
   "source": [
    "if time%60==0:print('On the hour')"
   ]
  },
  {
   "cell_type": "code",
   "execution_count": 51,
   "id": "2227a962-0b14-46b7-b875-f5f8657197a3",
   "metadata": {},
   "outputs": [
    {
     "ename": "SyntaxError",
     "evalue": "illegal target for annotation (879606163.py, line 1)",
     "output_type": "error",
     "traceback": [
      "\u001b[1;36m  Cell \u001b[1;32mIn[51], line 1\u001b[1;36m\u001b[0m\n\u001b[1;33m    if 9:00%60==0:print('On the hour')\u001b[0m\n\u001b[1;37m         ^\u001b[0m\n\u001b[1;31mSyntaxError\u001b[0m\u001b[1;31m:\u001b[0m illegal target for annotation\n"
     ]
    }
   ],
   "source": [
    "if 9:00%60==0:print('On the hour')"
   ]
  },
  {
   "cell_type": "code",
   "execution_count": 52,
   "id": "cbc57435-98fb-437c-a82e-52101b67b810",
   "metadata": {},
   "outputs": [
    {
     "ename": "NameError",
     "evalue": "name 'time' is not defined",
     "output_type": "error",
     "traceback": [
      "\u001b[1;31m---------------------------------------------------------------------------\u001b[0m",
      "\u001b[1;31mNameError\u001b[0m                                 Traceback (most recent call last)",
      "Cell \u001b[1;32mIn[52], line 1\u001b[0m\n\u001b[1;32m----> 1\u001b[0m \u001b[38;5;28;01mif\u001b[39;00m time \u001b[38;5;241m%\u001b[39m \u001b[38;5;241m60\u001b[39m\u001b[38;5;241m==\u001b[39m\u001b[38;5;241m0\u001b[39m:\u001b[38;5;28mprint\u001b[39m(\u001b[38;5;124m'\u001b[39m\u001b[38;5;124mOn the hour\u001b[39m\u001b[38;5;124m'\u001b[39m)\n",
      "\u001b[1;31mNameError\u001b[0m: name 'time' is not defined"
     ]
    }
   ],
   "source": [
    "if time % 60==0:print('On the hour')"
   ]
  },
  {
   "cell_type": "markdown",
   "id": "76ea2cf1-cec1-4382-9105-c0985b91ff4f",
   "metadata": {},
   "source": [
    "%是取余数\n"
   ]
  },
  {
   "cell_type": "markdown",
   "id": "f817be89-6923-47b5-a5ed-9e88a298fabd",
   "metadata": {},
   "source": [
    "导入处理时间的模块"
   ]
  },
  {
   "cell_type": "code",
   "execution_count": 53,
   "id": "18c315cc-5a52-49ae-bc80-a962ac93f6d4",
   "metadata": {},
   "outputs": [],
   "source": [
    "import datetime"
   ]
  },
  {
   "cell_type": "markdown",
   "id": "b3262a04-122a-4867-ab73-b09273a65522",
   "metadata": {},
   "source": [
    "获取当前系统时间"
   ]
  },
  {
   "cell_type": "code",
   "execution_count": 54,
   "id": "dfeb4e86-56a9-4275-b75c-d116a1bcb874",
   "metadata": {},
   "outputs": [],
   "source": [
    "current_time=datetime.datetime.now()"
   ]
  },
  {
   "cell_type": "markdown",
   "id": "4356df19-b5e9-46b4-85e6-ecdb2955559a",
   "metadata": {},
   "source": [
    "提取当前时间的分钟数，绑定给变量 time"
   ]
  },
  {
   "cell_type": "code",
   "execution_count": 55,
   "id": "346bda7e-b7f3-4a1c-b626-aea2a0ec382f",
   "metadata": {},
   "outputs": [],
   "source": [
    "time=current_time.minute"
   ]
  },
  {
   "cell_type": "markdown",
   "id": "94dbcd5b-cc6b-46c7-a4f1-58b6f1f5739c",
   "metadata": {},
   "source": [
    "判断是否为整点"
   ]
  },
  {
   "cell_type": "code",
   "execution_count": 57,
   "id": "ac1620af-3438-4250-a6a7-10973fe01ad3",
   "metadata": {},
   "outputs": [
    {
     "name": "stdout",
     "output_type": "stream",
     "text": [
      "Not on the hour.Current minute:24\n"
     ]
    }
   ],
   "source": [
    "if time%60==0:\n",
    "  print('On the hour')\n",
    "else:\n",
    "  print(f'Not on the hour.Current minute:{time}')"
   ]
  },
  {
   "cell_type": "markdown",
   "id": "894a7f68-c9d7-41ae-8295-772ac5b085b7",
   "metadata": {},
   "source": [
    "开头的 f 是 Python 格式化字符串（Formatted String Literals） 的标记，通常称为 f-string（f 字符串）。\n",
    "看到字符串开头的 f，识别为 f-string；\n",
    "找到 {time} 这个占位符，读取变量 time 的值（这里是 30）；\n",
    "将 {time} 替换为 30，最终生成字符串 Not on the hour. Current minute: 30；\n",
    "执行 print() 打印这个最终字符串。"
   ]
  },
  {
   "cell_type": "code",
   "execution_count": 58,
   "id": "372be91e-34d7-458c-a061-b09dcc2031bd",
   "metadata": {},
   "outputs": [
    {
     "data": {
      "text/plain": [
       "8"
      ]
     },
     "execution_count": 58,
     "metadata": {},
     "output_type": "execute_result"
    }
   ],
   "source": [
    "2**3"
   ]
  },
  {
   "cell_type": "code",
   "execution_count": 59,
   "id": "5a2836e9-2d9e-4412-af21-bfdca7898352",
   "metadata": {},
   "outputs": [
    {
     "data": {
      "text/plain": [
       "8"
      ]
     },
     "execution_count": 59,
     "metadata": {},
     "output_type": "execute_result"
    }
   ],
   "source": [
    "pow(2,3)"
   ]
  },
  {
   "cell_type": "markdown",
   "id": "f276f37a-d5fc-4eb4-ad62-a6b6cdac84ed",
   "metadata": {},
   "source": [
    "pow等于幂函数"
   ]
  },
  {
   "cell_type": "code",
   "execution_count": 60,
   "id": "1b57eddc-2485-4a83-bc8e-181b88f3d1db",
   "metadata": {},
   "outputs": [
    {
     "data": {
      "text/plain": [
       "10932.666666666666"
      ]
     },
     "execution_count": 60,
     "metadata": {},
     "output_type": "execute_result"
    }
   ],
   "source": [
    "10+pow(2,3*5)/3.0"
   ]
  },
  {
   "cell_type": "code",
   "execution_count": 61,
   "id": "93564927-0563-4285-915f-d8c3ecdbe463",
   "metadata": {},
   "outputs": [
    {
     "data": {
      "text/plain": [
       "10"
      ]
     },
     "execution_count": 61,
     "metadata": {},
     "output_type": "execute_result"
    }
   ],
   "source": [
    "abs(-10)"
   ]
  },
  {
   "cell_type": "markdown",
   "id": "eac6f45c-c0b0-4720-8398-53f83e4c9c4b",
   "metadata": {},
   "source": [
    "abs是绝对值"
   ]
  },
  {
   "cell_type": "code",
   "execution_count": 62,
   "id": "ab11032b-b838-4aac-a4a1-91774a4b81c8",
   "metadata": {},
   "outputs": [
    {
     "data": {
      "text/plain": [
       "0"
      ]
     },
     "execution_count": 62,
     "metadata": {},
     "output_type": "execute_result"
    }
   ],
   "source": [
    "2//3"
   ]
  },
  {
   "cell_type": "code",
   "execution_count": 63,
   "id": "ee5eefd7-d8d0-4428-92fb-9721e45cb641",
   "metadata": {},
   "outputs": [
    {
     "data": {
      "text/plain": [
       "1"
      ]
     },
     "execution_count": 63,
     "metadata": {},
     "output_type": "execute_result"
    }
   ],
   "source": [
    "round(2/3)"
   ]
  },
  {
   "cell_type": "markdown",
   "id": "03579241-72c7-48da-ad41-6b94234a633e",
   "metadata": {},
   "source": [
    "整数除法总是向下取整，而 round 函数则四舍五入到最接近的整数，当出现平局时，会向偶数取整。"
   ]
  },
  {
   "cell_type": "code",
   "execution_count": 64,
   "id": "db78f538-01c9-4af0-b7a5-e23b0b328c7a",
   "metadata": {},
   "outputs": [
    {
     "data": {
      "text/plain": [
       "32"
      ]
     },
     "execution_count": 64,
     "metadata": {},
     "output_type": "execute_result"
    }
   ],
   "source": [
    "import math\n",
    "math.floor(32.9)"
   ]
  },
  {
   "cell_type": "markdown",
   "id": "8858eafd-c0e6-4fca-a041-15d15e388d71",
   "metadata": {},
   "source": [
    "we import a module with import and then use the functions from that module by writing module.function. For this operation in particular, you could actually just convert the number into an integer, like I did earlier, with the results from input."
   ]
  },
  {
   "cell_type": "code",
   "execution_count": 65,
   "id": "56b80572-da9e-491e-a6dd-97d945862f4d",
   "metadata": {},
   "outputs": [
    {
     "data": {
      "text/plain": [
       "32"
      ]
     },
     "execution_count": 65,
     "metadata": {},
     "output_type": "execute_result"
    }
   ],
   "source": [
    "int(32.9)"
   ]
  },
  {
   "cell_type": "markdown",
   "id": "71d904f0-de64-4eb8-9ea6-5f3dbeb31e49",
   "metadata": {},
   "source": [
    "ceil:, which finds the smallest integral value larger than or equal to the given number."
   ]
  },
  {
   "cell_type": "code",
   "execution_count": 66,
   "id": "25c64abb-3e59-457e-9f80-21a232b1b447",
   "metadata": {},
   "outputs": [
    {
     "data": {
      "text/plain": [
       "33"
      ]
     },
     "execution_count": 66,
     "metadata": {},
     "output_type": "execute_result"
    }
   ],
   "source": [
    "math.ceil(32.3)"
   ]
  },
  {
   "cell_type": "code",
   "execution_count": 67,
   "id": "16c12dd0-3d3b-40cb-a559-d76efafd8960",
   "metadata": {},
   "outputs": [
    {
     "data": {
      "text/plain": [
       "32"
      ]
     },
     "execution_count": 67,
     "metadata": {},
     "output_type": "execute_result"
    }
   ],
   "source": [
    "math.ceil(32)"
   ]
  },
  {
   "cell_type": "code",
   "execution_count": 68,
   "id": "1acd2601-c4ab-4438-b246-d4de677a352f",
   "metadata": {},
   "outputs": [
    {
     "data": {
      "text/plain": [
       "3.0"
      ]
     },
     "execution_count": 68,
     "metadata": {},
     "output_type": "execute_result"
    }
   ],
   "source": [
    "from math import sqrt\n",
    "sqrt(9)"
   ]
  },
  {
   "cell_type": "code",
   "execution_count": 69,
   "id": "31c7ef01-0f47-4689-998d-c7fce02e87d7",
   "metadata": {},
   "outputs": [
    {
     "data": {
      "text/plain": [
       "2.0"
      ]
     },
     "execution_count": 69,
     "metadata": {},
     "output_type": "execute_result"
    }
   ],
   "source": [
    "from math import sqrt\n",
    "sqrt(4)"
   ]
  },
  {
   "cell_type": "markdown",
   "id": "e9f88f40-8ebc-4a72-9fba-722f6372a1f2",
   "metadata": {},
   "source": [
    "sqrt是开方"
   ]
  },
  {
   "cell_type": "code",
   "execution_count": 70,
   "id": "1900ec49-8b78-43e8-b1c0-ff2c26da5f8e",
   "metadata": {},
   "outputs": [
    {
     "data": {
      "text/plain": [
       "2.0"
      ]
     },
     "execution_count": 70,
     "metadata": {},
     "output_type": "execute_result"
    }
   ],
   "source": [
    "import math\n",
    "math.sqrt(4)"
   ]
  },
  {
   "cell_type": "code",
   "execution_count": 71,
   "id": "3ec901e1-23bb-4ff6-9c71-53014ce21e5b",
   "metadata": {},
   "outputs": [
    {
     "ename": "ValueError",
     "evalue": "math domain error",
     "output_type": "error",
     "traceback": [
      "\u001b[1;31m---------------------------------------------------------------------------\u001b[0m",
      "\u001b[1;31mValueError\u001b[0m                                Traceback (most recent call last)",
      "Cell \u001b[1;32mIn[71], line 2\u001b[0m\n\u001b[0;32m      1\u001b[0m \u001b[38;5;28;01mfrom\u001b[39;00m\u001b[38;5;250m \u001b[39m\u001b[38;5;21;01mmath\u001b[39;00m\u001b[38;5;250m \u001b[39m\u001b[38;5;28;01mimport\u001b[39;00m sqrt\n\u001b[1;32m----> 2\u001b[0m sqrt(\u001b[38;5;241m-\u001b[39m\u001b[38;5;241m1\u001b[39m)\n",
      "\u001b[1;31mValueError\u001b[0m: math domain error"
     ]
    }
   ],
   "source": [
    "from math import sqrt\n",
    "sqrt(-1)"
   ]
  },
  {
   "cell_type": "code",
   "execution_count": 72,
   "id": "7e5f5ae3-1f7a-4caf-9480-0ca5f70349b9",
   "metadata": {},
   "outputs": [
    {
     "ename": "ValueError",
     "evalue": "math domain error",
     "output_type": "error",
     "traceback": [
      "\u001b[1;31m---------------------------------------------------------------------------\u001b[0m",
      "\u001b[1;31mValueError\u001b[0m                                Traceback (most recent call last)",
      "Cell \u001b[1;32mIn[72], line 1\u001b[0m\n\u001b[1;32m----> 1\u001b[0m sqrt(\u001b[38;5;241m-\u001b[39m\u001b[38;5;241m1\u001b[39m)\n",
      "\u001b[1;31mValueError\u001b[0m: math domain error"
     ]
    }
   ],
   "source": [
    "sqrt(-1)"
   ]
  },
  {
   "cell_type": "code",
   "execution_count": 73,
   "id": "4da0ffd1-e38c-45a6-97a3-04a418ea5b41",
   "metadata": {},
   "outputs": [
    {
     "data": {
      "text/plain": [
       "1.0"
      ]
     },
     "execution_count": 73,
     "metadata": {},
     "output_type": "execute_result"
    }
   ],
   "source": [
    "sqrt(1)"
   ]
  },
  {
   "cell_type": "code",
   "execution_count": 74,
   "id": "1902d225-4054-436a-992b-362c545f2e25",
   "metadata": {},
   "outputs": [
    {
     "data": {
      "text/plain": [
       "1j"
      ]
     },
     "execution_count": 74,
     "metadata": {},
     "output_type": "execute_result"
    }
   ],
   "source": [
    "import cmath\n",
    "cmath.sqrt(-1)"
   ]
  },
  {
   "cell_type": "markdown",
   "id": "1398ff59-3d23-48ea-a4f7-6b9585459022",
   "metadata": {},
   "source": [
    "值 1j 是虚数的一个例子。这些数的写法是在末尾加上 j（或 J）。复数运算本质上源于将 1j 定义为 - 1 的平方根。"
   ]
  },
  {
   "cell_type": "code",
   "execution_count": 77,
   "id": "1e3067df-df3d-4cdf-949d-19526f6cc03b",
   "metadata": {},
   "outputs": [
    {
     "data": {
      "text/plain": [
       "(0.7071067811865476+0.7071067811865475j)"
      ]
     },
     "execution_count": 77,
     "metadata": {},
     "output_type": "execute_result"
    }
   ],
   "source": [
    "import cmath\n",
    "cmath.sqrt(1j)\n"
   ]
  },
  {
   "cell_type": "code",
   "execution_count": 78,
   "id": "9dd437d2-ad58-4821-bfc9-318e340aeb3d",
   "metadata": {},
   "outputs": [
    {
     "data": {
      "text/plain": [
       "(-3+31j)"
      ]
     },
     "execution_count": 78,
     "metadata": {},
     "output_type": "execute_result"
    }
   ],
   "source": [
    "(1+3j)*(9+4j)"
   ]
  },
  {
   "cell_type": "code",
   "execution_count": 79,
   "id": "860c9426-19b4-406d-ba9a-6c5b7248e09b",
   "metadata": {},
   "outputs": [
    {
     "name": "stdin",
     "output_type": "stream",
     "text": [
      "What is your name? Lin Ronghui\n"
     ]
    },
    {
     "name": "stdout",
     "output_type": "stream",
     "text": [
      "hello,Lin Ronghui!\n"
     ]
    }
   ],
   "source": [
    "name=input(\"What is your name?\")\n",
    "print(\"hello,\"+ name +\"!\")"
   ]
  },
  {
   "cell_type": "code",
   "execution_count": 81,
   "id": "3910c057-20df-4e57-97e1-93d95d80e10a",
   "metadata": {},
   "outputs": [
    {
     "name": "stdin",
     "output_type": "stream",
     "text": [
      "What is your name? Florine\n"
     ]
    },
    {
     "name": "stdout",
     "output_type": "stream",
     "text": [
      "hello,Florine!\n"
     ]
    }
   ],
   "source": [
    "name=input(\"What is your name?\")\n",
    "print(\"hello,\"+name+\"!\")"
   ]
  },
  {
   "cell_type": "code",
   "execution_count": 82,
   "id": "93c1bf38-0c77-44d4-8733-00197c463cef",
   "metadata": {},
   "outputs": [
    {
     "ename": "NameError",
     "evalue": "name 'forward' is not defined",
     "output_type": "error",
     "traceback": [
      "\u001b[1;31m---------------------------------------------------------------------------\u001b[0m",
      "\u001b[1;31mNameError\u001b[0m                                 Traceback (most recent call last)",
      "Cell \u001b[1;32mIn[82], line 1\u001b[0m\n\u001b[1;32m----> 1\u001b[0m forward(\u001b[38;5;241m100\u001b[39m)\n",
      "\u001b[1;31mNameError\u001b[0m: name 'forward' is not defined"
     ]
    }
   ],
   "source": [
    "forward(100)"
   ]
  },
  {
   "cell_type": "markdown",
   "id": "9479d549-a2be-4323-be24-7341ea25a92c",
   "metadata": {},
   "source": [
    "12-13页回过头再来看"
   ]
  },
  {
   "cell_type": "code",
   "execution_count": 83,
   "id": "8395e2f3-ed14-4a81-aa3b-56e5a5989ae6",
   "metadata": {},
   "outputs": [
    {
     "name": "stdin",
     "output_type": "stream",
     "text": [
      "Press <enter> 1\n"
     ]
    },
    {
     "data": {
      "text/plain": [
       "'1'"
      ]
     },
     "execution_count": 83,
     "metadata": {},
     "output_type": "execute_result"
    }
   ],
   "source": [
    "input(\"Press <enter>\")"
   ]
  },
  {
   "cell_type": "code",
   "execution_count": 84,
   "id": "542d0223-67e1-48bd-b6e3-33577817ee38",
   "metadata": {},
   "outputs": [
    {
     "name": "stdin",
     "output_type": "stream",
     "text": [
      "What is your name? Lin\n"
     ]
    },
    {
     "name": "stdout",
     "output_type": "stream",
     "text": [
      "hello,Lin!\n"
     ]
    },
    {
     "name": "stdin",
     "output_type": "stream",
     "text": [
      "Press <enter> \n"
     ]
    },
    {
     "data": {
      "text/plain": [
       "''"
      ]
     },
     "execution_count": 84,
     "metadata": {},
     "output_type": "execute_result"
    }
   ],
   "source": [
    "name=input(\"What is your name?\")\n",
    "print(\"hello,\"+name+\"!\")\n",
    "input(\"Press <enter>\")\n"
   ]
  },
  {
   "cell_type": "code",
   "execution_count": 87,
   "id": "fa444925-691e-41c5-87b7-15a706fb1159",
   "metadata": {},
   "outputs": [],
   "source": [
    "#Print the circumference of the circle:"
   ]
  },
  {
   "cell_type": "code",
   "execution_count": 88,
   "id": "5cfde89b-6d2b-425d-ab55-416646efac7b",
   "metadata": {},
   "outputs": [
    {
     "ename": "NameError",
     "evalue": "name 'pi' is not defined",
     "output_type": "error",
     "traceback": [
      "\u001b[1;31m---------------------------------------------------------------------------\u001b[0m",
      "\u001b[1;31mNameError\u001b[0m                                 Traceback (most recent call last)",
      "Cell \u001b[1;32mIn[88], line 1\u001b[0m\n\u001b[1;32m----> 1\u001b[0m \u001b[38;5;28mprint\u001b[39m(\u001b[38;5;241m2\u001b[39m\u001b[38;5;241m*\u001b[39mpi\u001b[38;5;241m*\u001b[39mradius)\n",
      "\u001b[1;31mNameError\u001b[0m: name 'pi' is not defined"
     ]
    }
   ],
   "source": [
    "print(2*pi*radius)"
   ]
  },
  {
   "cell_type": "code",
   "execution_count": 89,
   "id": "c88f3c84-c180-4b75-b951-43bcd8c3728b",
   "metadata": {},
   "outputs": [],
   "source": [
    "#Get the user's name:"
   ]
  },
  {
   "cell_type": "code",
   "execution_count": 90,
   "id": "23178981-9024-43f8-a09e-697fa1391f7d",
   "metadata": {},
   "outputs": [
    {
     "name": "stdin",
     "output_type": "stream",
     "text": [
      "What is your name? haha \n"
     ]
    }
   ],
   "source": [
    "user_name=input(\"What is your name?\")"
   ]
  },
  {
   "cell_type": "markdown",
   "id": "b1e521c2-9834-4c8e-b5cc-1839d12a00dc",
   "metadata": {},
   "source": [
    "这里的补充说明并不必要"
   ]
  },
  {
   "cell_type": "code",
   "execution_count": 91,
   "id": "f4bdb029-cb27-4375-a6f5-a4a83c4b2c43",
   "metadata": {},
   "outputs": [
    {
     "data": {
      "text/plain": [
       "'Hello,world!'"
      ]
     },
     "execution_count": 91,
     "metadata": {},
     "output_type": "execute_result"
    }
   ],
   "source": [
    "\"Hello,world!\""
   ]
  },
  {
   "cell_type": "code",
   "execution_count": 92,
   "id": "0164c532-be1a-4ea5-ad9f-a8fd0b54fa6c",
   "metadata": {},
   "outputs": [
    {
     "data": {
      "text/plain": [
       "'Hello,world!'"
      ]
     },
     "execution_count": 92,
     "metadata": {},
     "output_type": "execute_result"
    }
   ],
   "source": [
    "'Hello,world!'"
   ]
  },
  {
   "cell_type": "code",
   "execution_count": 93,
   "id": "e7e46d1a-4aca-4b76-a1d6-3a1a12af7626",
   "metadata": {},
   "outputs": [
    {
     "data": {
      "text/plain": [
       "\"Let's go!\""
      ]
     },
     "execution_count": 93,
     "metadata": {},
     "output_type": "execute_result"
    }
   ],
   "source": [
    "\"Let's go!\""
   ]
  },
  {
   "cell_type": "markdown",
   "id": "fd2095f4-b415-4033-a5e0-c8826312572a",
   "metadata": {},
   "source": [
    "可是为啥这里双引号就输出来了前面就输出不出来\n",
    "问了豆包，其实没啥区别，只是Let's go里已经有双引号了所以保留双引号比较好"
   ]
  },
  {
   "cell_type": "code",
   "execution_count": 95,
   "id": "0a439f13-8bba-40fc-b4bf-d01abd62f91a",
   "metadata": {},
   "outputs": [
    {
     "data": {
      "text/plain": [
       "'I love u'"
      ]
     },
     "execution_count": 95,
     "metadata": {},
     "output_type": "execute_result"
    }
   ],
   "source": [
    "\"I love u\""
   ]
  },
  {
   "cell_type": "code",
   "execution_count": 96,
   "id": "93618df1-da08-4e22-abc0-60be1ba3cba3",
   "metadata": {},
   "outputs": [
    {
     "data": {
      "text/plain": [
       "\"I'm Lin\""
      ]
     },
     "execution_count": 96,
     "metadata": {},
     "output_type": "execute_result"
    }
   ],
   "source": [
    "\"I'm Lin\""
   ]
  },
  {
   "cell_type": "code",
   "execution_count": 97,
   "id": "81ab8789-8dad-418d-ace3-021b60caf4e6",
   "metadata": {},
   "outputs": [
    {
     "data": {
      "text/plain": [
       "'\"Hello,world!\"she said'"
      ]
     },
     "execution_count": 97,
     "metadata": {},
     "output_type": "execute_result"
    }
   ],
   "source": [
    "'\"Hello,world!\"she said'"
   ]
  },
  {
   "cell_type": "code",
   "execution_count": 98,
   "id": "3ad7794e-b4e1-4d93-b7ae-bf4e12dca95f",
   "metadata": {},
   "outputs": [
    {
     "ename": "SyntaxError",
     "evalue": "unterminated string literal (detected at line 1) (2294464467.py, line 1)",
     "output_type": "error",
     "traceback": [
      "\u001b[1;36m  Cell \u001b[1;32mIn[98], line 1\u001b[1;36m\u001b[0m\n\u001b[1;33m    'Let's go'\u001b[0m\n\u001b[1;37m             ^\u001b[0m\n\u001b[1;31mSyntaxError\u001b[0m\u001b[1;31m:\u001b[0m unterminated string literal (detected at line 1)\n"
     ]
    }
   ],
   "source": [
    "'Let's go'"
   ]
  },
  {
   "cell_type": "code",
   "execution_count": 100,
   "id": "5ce9e9b9-d87e-4092-9163-012e0b2be863",
   "metadata": {},
   "outputs": [
    {
     "data": {
      "text/plain": [
       "\"Let's go!\""
      ]
     },
     "execution_count": 100,
     "metadata": {},
     "output_type": "execute_result"
    }
   ],
   "source": [
    "'Let\\'s go!'"
   ]
  },
  {
   "cell_type": "markdown",
   "id": "a3210a09-8ddd-42b3-8704-bccb7fe5ea33",
   "metadata": {},
   "source": [
    "An alternative is to use the backslash character (\\) to escape the quotes in the string"
   ]
  },
  {
   "cell_type": "code",
   "execution_count": 101,
   "id": "7f3959cf-2040-4d12-89cf-255e11097404",
   "metadata": {},
   "outputs": [
    {
     "data": {
      "text/plain": [
       "'\"Hello,world!\"she said'"
      ]
     },
     "execution_count": 101,
     "metadata": {},
     "output_type": "execute_result"
    }
   ],
   "source": [
    "\"\\\"Hello,world!\\\"she said\""
   ]
  },
  {
   "cell_type": "code",
   "execution_count": 102,
   "id": "884b6b60-3cb2-4d87-859b-f993da0f1362",
   "metadata": {},
   "outputs": [
    {
     "data": {
      "text/plain": [
       "\"I'm Lin\""
      ]
     },
     "execution_count": 102,
     "metadata": {},
     "output_type": "execute_result"
    }
   ],
   "source": [
    "'I\\'m Lin'"
   ]
  },
  {
   "cell_type": "code",
   "execution_count": 104,
   "id": "374c67c7-fc00-4fde-a187-1ca2b5e259ad",
   "metadata": {},
   "outputs": [
    {
     "data": {
      "text/plain": [
       "'Let\\'s say \"Hello,world\"'"
      ]
     },
     "execution_count": 104,
     "metadata": {},
     "output_type": "execute_result"
    }
   ],
   "source": [
    "'Let\\'s say \"Hello,world\"'\n"
   ]
  },
  {
   "cell_type": "code",
   "execution_count": 105,
   "id": "9f59a45a-cb43-4777-9ac8-bc2671bc2c74",
   "metadata": {},
   "outputs": [
    {
     "data": {
      "text/plain": [
       "'Let\\'s say\"Hello,world!\"'"
      ]
     },
     "execution_count": 105,
     "metadata": {},
     "output_type": "execute_result"
    }
   ],
   "source": [
    "\"Let's say\"'\"Hello,world!\"'"
   ]
  },
  {
   "cell_type": "markdown",
   "id": "7e58a8cb-8d75-44bd-b186-f5cd4167d64e",
   "metadata": {},
   "source": [
    "为啥多了一条斜线"
   ]
  },
  {
   "cell_type": "markdown",
   "id": "38517ca5-8203-42d0-83c8-dbae711c05b1",
   "metadata": {},
   "source": [
    "你看到的 “反斜杠”，是交互环境显示repr()结果导致的 —— 它不是字符串的 “实际内容”，而是 “构造这个字符串时的转义标记”。\n",
    "如果用 print() 打印字符串（显示实际内容，而非repr()形式），转义符会被 “解析”，反斜杠就会消失："
   ]
  },
  {
   "cell_type": "code",
   "execution_count": 106,
   "id": "a983ebb7-2692-4b59-9dde-8a8fb36287b2",
   "metadata": {},
   "outputs": [
    {
     "name": "stdout",
     "output_type": "stream",
     "text": [
      "Let's say\"Hello,world!\"\n"
     ]
    }
   ],
   "source": [
    "print(\"Let's say\"'\"Hello,world!\"')"
   ]
  },
  {
   "cell_type": "code",
   "execution_count": 107,
   "id": "3cf14d8f-b241-458b-b7b7-a11003696800",
   "metadata": {},
   "outputs": [
    {
     "ename": "SyntaxError",
     "evalue": "unterminated string literal (detected at line 1) (1357040087.py, line 1)",
     "output_type": "error",
     "traceback": [
      "\u001b[1;36m  Cell \u001b[1;32mIn[107], line 1\u001b[1;36m\u001b[0m\n\u001b[1;33m    x=\"Hello.\u001b[0m\n\u001b[1;37m      ^\u001b[0m\n\u001b[1;31mSyntaxError\u001b[0m\u001b[1;31m:\u001b[0m unterminated string literal (detected at line 1)\n"
     ]
    }
   ],
   "source": [
    "x=\"Hello.\n",
    "y=\"world!\"\n",
    "x y"
   ]
  },
  {
   "cell_type": "code",
   "execution_count": 108,
   "id": "6e6413c0-fe2d-4135-86bf-c8ffae72426d",
   "metadata": {},
   "outputs": [
    {
     "data": {
      "text/plain": [
       "'Hello,world!'"
      ]
     },
     "execution_count": 108,
     "metadata": {},
     "output_type": "execute_result"
    }
   ],
   "source": [
    "\"Hello,\"+\"world!\""
   ]
  },
  {
   "cell_type": "code",
   "execution_count": 109,
   "id": "d8924062-2fc8-409b-b43a-9a744b8b7c52",
   "metadata": {},
   "outputs": [
    {
     "data": {
      "text/plain": [
       "'Hello,world!'"
      ]
     },
     "execution_count": 109,
     "metadata": {},
     "output_type": "execute_result"
    }
   ],
   "source": [
    "x=\"Hello,\"\n",
    "y=\"world!\"\n",
    "x+y"
   ]
  },
  {
   "cell_type": "code",
   "execution_count": 110,
   "id": "4371afb0-e52b-417b-b421-c730d20ca6ec",
   "metadata": {},
   "outputs": [
    {
     "data": {
      "text/plain": [
       "'Hello,\\nworld!'"
      ]
     },
     "execution_count": 110,
     "metadata": {},
     "output_type": "execute_result"
    }
   ],
   "source": [
    "\"Hello,\\nworld!\""
   ]
  },
  {
   "cell_type": "code",
   "execution_count": 111,
   "id": "9bf8b1b5-a1ce-454b-a9f4-f7f496cd171c",
   "metadata": {},
   "outputs": [
    {
     "name": "stdout",
     "output_type": "stream",
     "text": [
      "Hello,\n",
      "world!\n"
     ]
    }
   ],
   "source": [
    "print(\"Hello,\\nworld!\")"
   ]
  },
  {
   "cell_type": "markdown",
   "id": "abce44b7-8001-4fc5-a034-14c06b994f38",
   "metadata": {},
   "source": [
    "换行字符代码 \\n"
   ]
  },
  {
   "cell_type": "code",
   "execution_count": 1,
   "id": "bd1716fa-2bb7-4843-aab8-eec500a4b967",
   "metadata": {},
   "outputs": [
    {
     "name": "stdout",
     "output_type": "stream",
     "text": [
      "'Hello,\\nworld!'\n"
     ]
    }
   ],
   "source": [
    "print(repr(\"Hello,\\nworld!\"))"
   ]
  },
  {
   "cell_type": "code",
   "execution_count": 2,
   "id": "361ae53c-8294-4a98-8afd-5faa20ba316e",
   "metadata": {},
   "outputs": [
    {
     "name": "stdout",
     "output_type": "stream",
     "text": [
      "Hello,\n",
      "world!\n"
     ]
    }
   ],
   "source": [
    "print(str(\"Hello,\\nworld!\"))"
   ]
  },
  {
   "cell_type": "markdown",
   "id": "e4dbc093-78d7-43c2-8808-2f703da8414f",
   "metadata": {},
   "source": [
    "使用 str，你可以以某种合理的方式将一个值转换为字符串"
   ]
  },
  {
   "cell_type": "markdown",
   "id": "c1958da7-3567-4628-8d27-8296c8dbdc38",
   "metadata": {},
   "source": [
    "如果你使用 repr，通常会得到该值作为合法 Python 表达式的表示形式。"
   ]
  },
  {
   "cell_type": "code",
   "execution_count": 3,
   "id": "6df9d7ba-65ce-4a1c-8a1b-b0f87f378653",
   "metadata": {},
   "outputs": [
    {
     "name": "stdout",
     "output_type": "stream",
     "text": [
      "This is a very long string.It continues here. And it's not over yet. \"Hello, world!\" Still here.\n"
     ]
    }
   ],
   "source": [
    "print('''This is a very long string.It continues here. And it's not over yet. \"Hello, world!\" Still here.''')"
   ]
  },
  {
   "cell_type": "code",
   "execution_count": 4,
   "id": "d3a6c06b-03a9-413f-bb84-db198e9ef886",
   "metadata": {},
   "outputs": [
    {
     "name": "stdout",
     "output_type": "stream",
     "text": [
      "This is a very long string. \n",
      "It continues hre. And it's not over yet. \n",
      "\"Hello, world!\" Still here.\n"
     ]
    }
   ],
   "source": [
    "print('''This is a very long string. \\nIt continues hre. And it's not over yet. \\n\"Hello, world!\" Still here.''')"
   ]
  },
  {
   "cell_type": "markdown",
   "id": "f44feeca-5754-4f7e-a0eb-068a2d73545d",
   "metadata": {},
   "source": [
    "长句子可以用三引号"
   ]
  },
  {
   "cell_type": "code",
   "execution_count": 5,
   "id": "6139ac06-b7c1-4bac-9b6e-3a15ec8f23de",
   "metadata": {},
   "outputs": [
    {
     "ename": "SyntaxError",
     "evalue": "invalid syntax. Perhaps you forgot a comma? (3686613827.py, line 1)",
     "output_type": "error",
     "traceback": [
      "\u001b[1;36m  Cell \u001b[1;32mIn[5], line 1\u001b[1;36m\u001b[0m\n\u001b[1;33m    print(''This is a very long string. \\nIt continues hre. And it's not over yet. \\n\\\"Hello, world!\\\" Still here.'')\u001b[0m\n\u001b[1;37m          ^\u001b[0m\n\u001b[1;31mSyntaxError\u001b[0m\u001b[1;31m:\u001b[0m invalid syntax. Perhaps you forgot a comma?\n"
     ]
    }
   ],
   "source": [
    "print(''This is a very long string. \\nIt continues hre. And it's not over yet. \\n\\\"Hello, world!\\\" Still here.'')"
   ]
  },
  {
   "cell_type": "code",
   "execution_count": 6,
   "id": "b08f8e71-3272-4ebd-a480-e717edeecfb7",
   "metadata": {},
   "outputs": [
    {
     "ename": "SyntaxError",
     "evalue": "invalid syntax. Perhaps you forgot a comma? (726367288.py, line 1)",
     "output_type": "error",
     "traceback": [
      "\u001b[1;36m  Cell \u001b[1;32mIn[6], line 1\u001b[1;36m\u001b[0m\n\u001b[1;33m    print('This is a very long string. \\nIt continues hre. And it's not over yet. \\n\\\"Hello, world!\\\" Still here.')\u001b[0m\n\u001b[1;37m          ^\u001b[0m\n\u001b[1;31mSyntaxError\u001b[0m\u001b[1;31m:\u001b[0m invalid syntax. Perhaps you forgot a comma?\n"
     ]
    }
   ],
   "source": [
    "print('This is a very long string. \\nIt continues hre. And it's not over yet. \\n\\\"Hello, world!\\\" Still here.')"
   ]
  },
  {
   "cell_type": "code",
   "execution_count": 7,
   "id": "40f8db0d-2207-44d3-be21-1c851ddc4c53",
   "metadata": {},
   "outputs": [
    {
     "ename": "SyntaxError",
     "evalue": "unexpected character after line continuation character (2674263741.py, line 1)",
     "output_type": "error",
     "traceback": [
      "\u001b[1;36m  Cell \u001b[1;32mIn[7], line 1\u001b[1;36m\u001b[0m\n\u001b[1;33m    print(\"This is a very long string. \\nIt continues hre. And it's not over yet. \\n\"\\Hello, world!\"\\ Still here.\")\u001b[0m\n\u001b[1;37m                                                                                      ^\u001b[0m\n\u001b[1;31mSyntaxError\u001b[0m\u001b[1;31m:\u001b[0m unexpected character after line continuation character\n"
     ]
    }
   ],
   "source": [
    "print(\"This is a very long string. \\nIt continues hre. And it's not over yet. \\n\"\\Hello, world!\"\\ Still here.\")"
   ]
  },
  {
   "cell_type": "code",
   "execution_count": 8,
   "id": "822625cf-4d1c-40f7-8b83-ab2e9767a3ea",
   "metadata": {},
   "outputs": [
    {
     "name": "stdout",
     "output_type": "stream",
     "text": [
      "This is a very long string. \n",
      "It continues here. And it's not over yet. \n",
      "\"Hello, world!\" Still here.\n"
     ]
    }
   ],
   "source": [
    "print(\"This is a very long string. \\nIt continues here. And it's not over yet. \\n\\\"Hello, world!\\\" Still here.\")"
   ]
  },
  {
   "cell_type": "code",
   "execution_count": 9,
   "id": "07ce59fd-c3fc-44d1-b3b5-af3ff7693810",
   "metadata": {},
   "outputs": [
    {
     "data": {
      "text/plain": [
       "'like this'"
      ]
     },
     "execution_count": 9,
     "metadata": {},
     "output_type": "execute_result"
    }
   ],
   "source": [
    "\"\"\"like this\"\"\""
   ]
  },
  {
   "cell_type": "code",
   "execution_count": 10,
   "id": "ee63ff0b-9398-4e8f-801d-e08cbac88358",
   "metadata": {},
   "outputs": [
    {
     "name": "stdout",
     "output_type": "stream",
     "text": [
      "like this\n"
     ]
    }
   ],
   "source": [
    "print(\"\"\"like this\"\"\")"
   ]
  },
  {
   "cell_type": "code",
   "execution_count": 12,
   "id": "2e99760d-ce3d-42e4-b061-661a29a6b031",
   "metadata": {},
   "outputs": [
    {
     "ename": "SyntaxError",
     "evalue": "invalid syntax. Perhaps you forgot a comma? (379854882.py, line 1)",
     "output_type": "error",
     "traceback": [
      "\u001b[1;36m  Cell \u001b[1;32mIn[12], line 1\u001b[1;36m\u001b[0m\n\u001b[1;33m    print(\"\"\"\"\"\"like this\"\"\"\"\"\")\u001b[0m\n\u001b[1;37m          ^\u001b[0m\n\u001b[1;31mSyntaxError\u001b[0m\u001b[1;31m:\u001b[0m invalid syntax. Perhaps you forgot a comma?\n"
     ]
    }
   ],
   "source": [
    "print(\"\"\"\"\"\"like this\"\"\"\"\"\")"
   ]
  },
  {
   "cell_type": "markdown",
   "id": "f963a9ac-e3f7-4395-8b84-660507569153",
   "metadata": {},
   "source": [
    "Python 中字符串的合法定界方式只有 3 类，且均需成对、数量固定：\n",
    "单引号：'内容'（1 个单引号开头，1 个单引号结尾）；\n",
    "双引号：\"内容\"（1 个双引号开头，1 个双引号结尾）；\n",
    "三引号（支持多行内容）：\"\"\"内容\"\"\"（3 个双引号开头，3 个双引号结尾）或 '''内容'''（3 个单引号开头，3 个单引号结尾）"
   ]
  },
  {
   "cell_type": "code",
   "execution_count": 15,
   "id": "692bee0a-e9f7-4138-84b4-e3875cfd720c",
   "metadata": {},
   "outputs": [
    {
     "name": "stdout",
     "output_type": "stream",
     "text": [
      "Hello, \\ world!\n"
     ]
    }
   ],
   "source": [
    "print(\"Hello, \\ world!\")"
   ]
  },
  {
   "cell_type": "code",
   "execution_count": 17,
   "id": "4e72feb9-1a66-4edb-9d0b-5fe03f451547",
   "metadata": {},
   "outputs": [
    {
     "name": "stdout",
     "output_type": "stream",
     "text": [
      "Hello,\\world!\n"
     ]
    }
   ],
   "source": [
    "print(\"Hello,\\world!\")"
   ]
  },
  {
   "cell_type": "code",
   "execution_count": 18,
   "id": "84fec17e-b44b-4c19-8074-52253c096642",
   "metadata": {},
   "outputs": [
    {
     "name": "stdout",
     "output_type": "stream",
     "text": [
      "Hello, \\world!\n"
     ]
    }
   ],
   "source": [
    "print(\"Hello, \\world!\")"
   ]
  },
  {
   "cell_type": "markdown",
   "id": "ba148b74-5cbb-4fff-a3f4-0654031304d1",
   "metadata": {},
   "source": [
    "?怎么不一样啊"
   ]
  },
  {
   "cell_type": "markdown",
   "id": "b219fc51-81a6-4d08-b5bf-8c95bc52e24e",
   "metadata": {},
   "source": [
    "普通字符串也可以跨多行。如果一行的最后一个字符是反斜杠，那么换行本身会被 “转义” 并被忽略。例如：print (\"Hello, \\world!\") 会输出 Hello, world!。一般来说，表达式和语句也是如此。"
   ]
  },
  {
   "cell_type": "code",
   "execution_count": 19,
   "id": "943a0dd7-5265-41a4-b1b5-a130c2551ae0",
   "metadata": {},
   "outputs": [
    {
     "name": "stdout",
     "output_type": "stream",
     "text": [
      "Hello, world!\n"
     ]
    }
   ],
   "source": [
    "print(\"Hello, \\\n",
    "world!\")"
   ]
  },
  {
   "cell_type": "code",
   "execution_count": 21,
   "id": "086ca1af-8653-4cca-92ab-6167b4c6a63e",
   "metadata": {},
   "outputs": [
    {
     "data": {
      "text/plain": [
       "12"
      ]
     },
     "execution_count": 21,
     "metadata": {},
     "output_type": "execute_result"
    }
   ],
   "source": [
    "1+2+\\\n",
    "4+5"
   ]
  },
  {
   "cell_type": "code",
   "execution_count": 22,
   "id": "e9bb66e5-79ad-4c47-9302-3dcb2e2ccdc0",
   "metadata": {},
   "outputs": [
    {
     "name": "stdout",
     "output_type": "stream",
     "text": [
      "Hello,world\n"
     ]
    }
   ],
   "source": [
    "print\\\n",
    "('Hello,world')"
   ]
  },
  {
   "cell_type": "code",
   "execution_count": 23,
   "id": "dc40aafd-fbb6-4ef9-b2df-1b8a69b0ba31",
   "metadata": {},
   "outputs": [
    {
     "name": "stdout",
     "output_type": "stream",
     "text": [
      "Hello,\n",
      "world!\n"
     ]
    }
   ],
   "source": [
    "print('Hello,\\nworld!')"
   ]
  },
  {
   "cell_type": "code",
   "execution_count": 26,
   "id": "2e307f63-5e7b-4d84-aaf5-f42f515f387b",
   "metadata": {},
   "outputs": [],
   "source": [
    "path='C:\\nowhere'"
   ]
  },
  {
   "cell_type": "code",
   "execution_count": 27,
   "id": "daf0ffac-5c8f-4474-93fc-0c13b9a89497",
   "metadata": {},
   "outputs": [
    {
     "data": {
      "text/plain": [
       "'C:\\nowhere'"
      ]
     },
     "execution_count": 27,
     "metadata": {},
     "output_type": "execute_result"
    }
   ],
   "source": [
    "path\n",
    "'C:\\nowhere'"
   ]
  },
  {
   "cell_type": "code",
   "execution_count": 28,
   "id": "57c822a1-8a4a-4b37-894b-8f502f559452",
   "metadata": {},
   "outputs": [
    {
     "name": "stdout",
     "output_type": "stream",
     "text": [
      "C:\n",
      "owhere\n"
     ]
    }
   ],
   "source": [
    "print(path)"
   ]
  },
  {
   "cell_type": "code",
   "execution_count": 29,
   "id": "07ac6b87-d13c-4d2d-b0f6-8f2730137427",
   "metadata": {},
   "outputs": [
    {
     "name": "stdout",
     "output_type": "stream",
     "text": [
      "C:\\nowhere\n"
     ]
    }
   ],
   "source": [
    "print('C:\\\\nowhere')"
   ]
  },
  {
   "cell_type": "markdown",
   "id": "388c094d-dcc7-40bf-b616-28eb46928531",
   "metadata": {},
   "source": [
    "对反斜杠本身进行转义"
   ]
  },
  {
   "cell_type": "code",
   "execution_count": 30,
   "id": "25dd9c36-0cbe-4100-9156-19469c5c657e",
   "metadata": {},
   "outputs": [
    {
     "name": "stdout",
     "output_type": "stream",
     "text": [
      "C:\\Program Files\\fnord\\foo\\bar\\baz\\frozz\\bozz\n"
     ]
    }
   ],
   "source": [
    "path='C:\\\\Program Files\\\\fnord\\\\foo\\\\bar\\\\baz\\\\frozz\\\\bozz'\n",
    "print(path)"
   ]
  },
  {
   "cell_type": "code",
   "execution_count": 31,
   "id": "ac3cefb4-6f56-441f-a047-d6c8b83b7c6c",
   "metadata": {},
   "outputs": [
    {
     "name": "stdout",
     "output_type": "stream",
     "text": [
      "C:\\nowhere\n"
     ]
    }
   ],
   "source": [
    " print(r'C:\\nowhere')"
   ]
  },
  {
   "cell_type": "markdown",
   "id": "a2e3fe66-2535-4d37-8a00-34143f75c41b",
   "metadata": {},
   "source": [
    "如你所见，原始字符串以 r 为前缀。看起来你可以在原始字符串中放入任何内容，这几乎是正确的。引号必须像往常一样进行转义，不过这也意味着你的最终字符串中也会有一个反斜杠。"
   ]
  },
  {
   "cell_type": "code",
   "execution_count": 32,
   "id": "5b3bda79-3df5-4f33-a706-59ebe95170b2",
   "metadata": {},
   "outputs": [
    {
     "name": "stdout",
     "output_type": "stream",
     "text": [
      "Let\\'s go!\n"
     ]
    }
   ],
   "source": [
    "print(r'Let\\'s go!')"
   ]
  },
  {
   "cell_type": "markdown",
   "id": "57d29293-a642-43d4-a048-908eb633f79c",
   "metadata": {},
   "source": [
    "原始字符串中绝对不能出现的是单个的、位于末尾的反斜杠。换句话说，原始字符串的最后一个字符不能是反斜杠，除非你对它进行转义（而且用于转义的那个反斜杠也会成为字符串的一部分）。"
   ]
  },
  {
   "cell_type": "code",
   "execution_count": 33,
   "id": "1eb1d0ea-27bd-4b1f-ad50-21e09c6cc461",
   "metadata": {},
   "outputs": [
    {
     "ename": "SyntaxError",
     "evalue": "unterminated string literal (detected at line 1); perhaps you escaped the end quote? (106410739.py, line 1)",
     "output_type": "error",
     "traceback": [
      "\u001b[1;36m  Cell \u001b[1;32mIn[33], line 1\u001b[1;36m\u001b[0m\n\u001b[1;33m    print(r\"This is illegal\\\")\u001b[0m\n\u001b[1;37m          ^\u001b[0m\n\u001b[1;31mSyntaxError\u001b[0m\u001b[1;31m:\u001b[0m unterminated string literal (detected at line 1); perhaps you escaped the end quote?\n"
     ]
    }
   ],
   "source": [
    "print(r\"This is illegal\\\")"
   ]
  },
  {
   "cell_type": "code",
   "execution_count": 34,
   "id": "0e6e28c6-0a20-4d0a-958f-cebc290edfb6",
   "metadata": {},
   "outputs": [
    {
     "name": "stdout",
     "output_type": "stream",
     "text": [
      "C:\\Program Files\\foo\\bar\\\n"
     ]
    }
   ],
   "source": [
    "print(r'C:\\Program Files\\foo\\bar''\\\\')"
   ]
  },
  {
   "cell_type": "code",
   "execution_count": 37,
   "id": "60ec6b0b-d051-4e77-98af-ab4958bc1d38",
   "metadata": {},
   "outputs": [
    {
     "data": {
      "text/plain": [
       "'Æ'"
      ]
     },
     "execution_count": 37,
     "metadata": {},
     "output_type": "execute_result"
    }
   ],
   "source": [
    "\"\\u00C6\""
   ]
  },
  {
   "cell_type": "code",
   "execution_count": 40,
   "id": "f28fe51f-0d52-46a1-a3d8-2498f6e6a376",
   "metadata": {},
   "outputs": [
    {
     "data": {
      "text/plain": [
       "'😊'"
      ]
     },
     "execution_count": 40,
     "metadata": {},
     "output_type": "execute_result"
    }
   ],
   "source": [
    "\"\\U0001F60A\""
   ]
  },
  {
   "cell_type": "code",
   "execution_count": 42,
   "id": "38834ede-08ad-4dc3-b470-3181bad58129",
   "metadata": {},
   "outputs": [
    {
     "data": {
      "text/plain": [
       "'This is a cat:🐈'"
      ]
     },
     "execution_count": 42,
     "metadata": {},
     "output_type": "execute_result"
    }
   ],
   "source": [
    "\"This is a cat:\\N{Cat}\""
   ]
  },
  {
   "cell_type": "code",
   "execution_count": 43,
   "id": "9b5188d8-06ca-4603-b44d-67f8f99a9bc6",
   "metadata": {},
   "outputs": [
    {
     "data": {
      "text/plain": [
       "'This is a cat:🐕'"
      ]
     },
     "execution_count": 43,
     "metadata": {},
     "output_type": "execute_result"
    }
   ],
   "source": [
    "\"This is a cat:\\N{Dog}\""
   ]
  },
  {
   "cell_type": "code",
   "execution_count": 44,
   "id": "1ef815bf-6590-48e6-9727-6635dad8cc1d",
   "metadata": {},
   "outputs": [
    {
     "data": {
      "text/plain": [
       "'This is a cat:🐇'"
      ]
     },
     "execution_count": 44,
     "metadata": {},
     "output_type": "execute_result"
    }
   ],
   "source": [
    "\"This is a cat:\\N{Rabbit}\""
   ]
  },
  {
   "cell_type": "code",
   "execution_count": 45,
   "id": "d215d3d4-a386-47c1-ab20-c70e655e76b4",
   "metadata": {},
   "outputs": [
    {
     "ename": "SyntaxError",
     "evalue": "(unicode error) 'unicodeescape' codec can't decode bytes in position 14-22: unknown Unicode character name (63148239.py, line 1)",
     "output_type": "error",
     "traceback": [
      "\u001b[1;36m  Cell \u001b[1;32mIn[45], line 1\u001b[1;36m\u001b[0m\n\u001b[1;33m    \"This is a cat:\\N{Panda}\"\u001b[0m\n\u001b[1;37m    ^\u001b[0m\n\u001b[1;31mSyntaxError\u001b[0m\u001b[1;31m:\u001b[0m (unicode error) 'unicodeescape' codec can't decode bytes in position 14-22: unknown Unicode character name\n"
     ]
    }
   ],
   "source": [
    "\"This is a cat:\\N{Panda}\""
   ]
  },
  {
   "cell_type": "code",
   "execution_count": 46,
   "id": "c0076ef4-2667-4617-896f-eb6c0cfc6944",
   "metadata": {},
   "outputs": [
    {
     "data": {
      "text/plain": [
       "'This is a cat:🐅'"
      ]
     },
     "execution_count": 46,
     "metadata": {},
     "output_type": "execute_result"
    }
   ],
   "source": [
    "\"This is a cat:\\N{Tiger}\""
   ]
  },
  {
   "cell_type": "code",
   "execution_count": 47,
   "id": "213745ae-264d-4c56-831b-1b15a38abfda",
   "metadata": {},
   "outputs": [
    {
     "ename": "NameError",
     "evalue": "name 'U' is not defined",
     "output_type": "error",
     "traceback": [
      "\u001b[1;31m---------------------------------------------------------------------------\u001b[0m",
      "\u001b[1;31mNameError\u001b[0m                                 Traceback (most recent call last)",
      "Cell \u001b[1;32mIn[47], line 1\u001b[0m\n\u001b[1;32m----> 1\u001b[0m U\u001b[38;5;241m+\u001b[39m\u001b[38;5;241m2665\u001b[39m\n",
      "\u001b[1;31mNameError\u001b[0m: name 'U' is not defined"
     ]
    }
   ],
   "source": [
    "\n",
    "U+2665"
   ]
  },
  {
   "cell_type": "code",
   "execution_count": 48,
   "id": "55cae8cd-56be-4a3a-9a3d-ece12589285e",
   "metadata": {},
   "outputs": [
    {
     "ename": "SyntaxError",
     "evalue": "unexpected character after line continuation character (1846332733.py, line 1)",
     "output_type": "error",
     "traceback": [
      "\u001b[1;36m  Cell \u001b[1;32mIn[48], line 1\u001b[1;36m\u001b[0m\n\u001b[1;33m    \\U+2665\u001b[0m\n\u001b[1;37m     ^\u001b[0m\n\u001b[1;31mSyntaxError\u001b[0m\u001b[1;31m:\u001b[0m unexpected character after line continuation character\n"
     ]
    }
   ],
   "source": [
    "\\U+2665"
   ]
  },
  {
   "cell_type": "code",
   "execution_count": 49,
   "id": "460bfa7f-1a57-4245-9f1e-4ef536459757",
   "metadata": {},
   "outputs": [
    {
     "ename": "SyntaxError",
     "evalue": "(unicode error) 'unicodeescape' codec can't decode bytes in position 0-1: truncated \\UXXXXXXXX escape (304968458.py, line 1)",
     "output_type": "error",
     "traceback": [
      "\u001b[1;36m  Cell \u001b[1;32mIn[49], line 1\u001b[1;36m\u001b[0m\n\u001b[1;33m    \"\\U+2665\"\u001b[0m\n\u001b[1;37m    ^\u001b[0m\n\u001b[1;31mSyntaxError\u001b[0m\u001b[1;31m:\u001b[0m (unicode error) 'unicodeescape' codec can't decode bytes in position 0-1: truncated \\UXXXXXXXX escape\n"
     ]
    }
   ],
   "source": [
    "\"\\U+2665\""
   ]
  },
  {
   "cell_type": "code",
   "execution_count": 50,
   "id": "a01e7d1e-9adf-4063-818f-7bd1a75387cd",
   "metadata": {},
   "outputs": [
    {
     "ename": "NameError",
     "evalue": "name 'U' is not defined",
     "output_type": "error",
     "traceback": [
      "\u001b[1;31m---------------------------------------------------------------------------\u001b[0m",
      "\u001b[1;31mNameError\u001b[0m                                 Traceback (most recent call last)",
      "Cell \u001b[1;32mIn[50], line 1\u001b[0m\n\u001b[1;32m----> 1\u001b[0m U\u001b[38;5;241m+\u001b[39m\u001b[38;5;241m2665\u001b[39m\n",
      "\u001b[1;31mNameError\u001b[0m: name 'U' is not defined"
     ]
    }
   ],
   "source": [
    "U+2665"
   ]
  },
  {
   "cell_type": "code",
   "execution_count": 51,
   "id": "8e32cc89-dacb-4828-a30a-e579a3ec86b5",
   "metadata": {},
   "outputs": [
    {
     "data": {
      "text/plain": [
       "'u+2665'"
      ]
     },
     "execution_count": 51,
     "metadata": {},
     "output_type": "execute_result"
    }
   ],
   "source": [
    "\"u+2665\""
   ]
  },
  {
   "cell_type": "code",
   "execution_count": 52,
   "id": "a27e51e8-cae4-4e00-9dd2-39b52928acde",
   "metadata": {},
   "outputs": [
    {
     "data": {
      "text/plain": [
       "'u2665'"
      ]
     },
     "execution_count": 52,
     "metadata": {},
     "output_type": "execute_result"
    }
   ],
   "source": [
    "\"u2665\""
   ]
  },
  {
   "cell_type": "code",
   "execution_count": 59,
   "id": "3739fa00-6a02-4805-9422-e1bc99e930c6",
   "metadata": {},
   "outputs": [
    {
     "data": {
      "text/plain": [
       "'This is a cat:🐒'"
      ]
     },
     "execution_count": 59,
     "metadata": {},
     "output_type": "execute_result"
    }
   ],
   "source": [
    "\"This is a cat:\\N{Monkey}\""
   ]
  },
  {
   "cell_type": "markdown",
   "id": "f55af831-d8ca-4e1f-b675-9b8e42d2c6b1",
   "metadata": {},
   "source": [
    "Unicode 的理念相当简单，但它也带来了一些挑战，其中之一就是编码问题。所有对象在内存中或磁盘上都以一系列二进制数字（0 和 1）的形式表示"
   ]
  },
  {
   "cell_type": "code",
   "execution_count": 60,
   "id": "e814461d-ff28-451a-b3c6-a84f2473c0d9",
   "metadata": {},
   "outputs": [
    {
     "data": {
      "text/plain": [
       "'ထ0110101'"
      ]
     },
     "execution_count": 60,
     "metadata": {},
     "output_type": "execute_result"
    }
   ],
   "source": [
    "\"\\u10110110101\""
   ]
  },
  {
   "cell_type": "code",
   "execution_count": 61,
   "id": "70bfb3d4-536d-480b-8672-2096c759335d",
   "metadata": {},
   "outputs": [
    {
     "data": {
      "text/plain": [
       "'A001101001'"
      ]
     },
     "execution_count": 61,
     "metadata": {},
     "output_type": "execute_result"
    }
   ],
   "source": [
    "\"\\101001101001\""
   ]
  },
  {
   "cell_type": "code",
   "execution_count": 62,
   "id": "1f05b211-c53d-4128-ad7a-78ffbfff6106",
   "metadata": {},
   "outputs": [
    {
     "data": {
      "text/plain": [
       "'u+101001101001'"
      ]
     },
     "execution_count": 62,
     "metadata": {},
     "output_type": "execute_result"
    }
   ],
   "source": [
    "\"u+101001101001\""
   ]
  },
  {
   "cell_type": "code",
   "execution_count": 63,
   "id": "11aef5b3-8581-44db-b999-e8dfd5a2aca9",
   "metadata": {},
   "outputs": [
    {
     "name": "stdout",
     "output_type": "stream",
     "text": [
      "空心爱心：♡\n"
     ]
    }
   ],
   "source": [
    "print(\"空心爱心：\\u2661\")"
   ]
  },
  {
   "cell_type": "code",
   "execution_count": 64,
   "id": "962048fb-f8a1-41a5-ba86-3f28a654d8d2",
   "metadata": {},
   "outputs": [
    {
     "data": {
      "text/plain": [
       "'♡'"
      ]
     },
     "execution_count": 64,
     "metadata": {},
     "output_type": "execute_result"
    }
   ],
   "source": [
    "\"\\u2661\""
   ]
  },
  {
   "cell_type": "code",
   "execution_count": 65,
   "id": "18eeb8d8-f796-4c1a-ab30-e26c27da509e",
   "metadata": {},
   "outputs": [
    {
     "data": {
      "text/plain": [
       "'♥'"
      ]
     },
     "execution_count": 65,
     "metadata": {},
     "output_type": "execute_result"
    }
   ],
   "source": [
    "\"\\u2665\""
   ]
  },
  {
   "cell_type": "markdown",
   "id": "82e19439-4e8a-4d61-906a-2e4fa2a521e2",
   "metadata": {},
   "source": [
    "你可以通过使用前缀 b 直接生成一个 bytes 对象，而不是字符串："
   ]
  },
  {
   "cell_type": "code",
   "execution_count": 66,
   "id": "3c6ffa52-9ed9-4278-ba32-26e97f43f237",
   "metadata": {},
   "outputs": [
    {
     "data": {
      "text/plain": [
       "b'Hello,world!'"
      ]
     },
     "execution_count": 66,
     "metadata": {},
     "output_type": "execute_result"
    }
   ],
   "source": [
    "b'Hello,world!'"
   ]
  },
  {
   "cell_type": "code",
   "execution_count": 67,
   "id": "4f8e6b64-7802-482f-b8b1-9f941fc44e83",
   "metadata": {},
   "outputs": [
    {
     "data": {
      "text/plain": [
       "b'Hello,world!'"
      ]
     },
     "execution_count": 67,
     "metadata": {},
     "output_type": "execute_result"
    }
   ],
   "source": [
    "\"Hello,world!\".encode(\"ASCII\")"
   ]
  },
  {
   "cell_type": "code",
   "execution_count": 68,
   "id": "8ce32cf2-2d1a-455d-857e-9693b8bafba9",
   "metadata": {},
   "outputs": [
    {
     "data": {
      "text/plain": [
       "b'Hello,world!'"
      ]
     },
     "execution_count": 68,
     "metadata": {},
     "output_type": "execute_result"
    }
   ],
   "source": [
    "\"Hello,world!\".encode(\"UTF-8\")"
   ]
  },
  {
   "cell_type": "code",
   "execution_count": 69,
   "id": "72919cbf-f96b-4fa0-83d2-b436c74ea16c",
   "metadata": {},
   "outputs": [
    {
     "data": {
      "text/plain": [
       "b'\\xff\\xfe\\x00\\x00H\\x00\\x00\\x00e\\x00\\x00\\x00l\\x00\\x00\\x00l\\x00\\x00\\x00o\\x00\\x00\\x00,\\x00\\x00\\x00w\\x00\\x00\\x00o\\x00\\x00\\x00r\\x00\\x00\\x00l\\x00\\x00\\x00d\\x00\\x00\\x00!\\x00\\x00\\x00'"
      ]
     },
     "execution_count": 69,
     "metadata": {},
     "output_type": "execute_result"
    }
   ],
   "source": [
    "\"Hello,world!\".encode(\"UTF-32\")"
   ]
  },
  {
   "cell_type": "code",
   "execution_count": 70,
   "id": "d321588d-29db-4f3c-8d7e-d8da66cdbe3f",
   "metadata": {},
   "outputs": [
    {
     "data": {
      "text/plain": [
       "17"
      ]
     },
     "execution_count": 70,
     "metadata": {},
     "output_type": "execute_result"
    }
   ],
   "source": [
    "len(\"How long id this?\".encode(\"UTF-8\"))"
   ]
  },
  {
   "cell_type": "code",
   "execution_count": 71,
   "id": "76551748-139d-47db-b018-1060d0fd2109",
   "metadata": {},
   "outputs": [
    {
     "data": {
      "text/plain": [
       "72"
      ]
     },
     "execution_count": 71,
     "metadata": {},
     "output_type": "execute_result"
    }
   ],
   "source": [
    "len(\"How long is this?\".encode(\"UTF-32\"))"
   ]
  },
  {
   "cell_type": "code",
   "execution_count": 72,
   "id": "3fc6a236-b11e-4954-b742-3faf0b350f1c",
   "metadata": {},
   "outputs": [
    {
     "ename": "SyntaxError",
     "evalue": "invalid syntax (2063766161.py, line 1)",
     "output_type": "error",
     "traceback": [
      "\u001b[1;36m  Cell \u001b[1;32mIn[72], line 1\u001b[1;36m\u001b[0m\n\u001b[1;33m    \"Hællå, wørld!\".encode(\"ASCII\")Traceback (most recent call last):  ...UnicodeEncodeError: 'ascii' codec can't encode character '\\xe6' in position 1: ordinal not in range(128)\u001b[0m\n\u001b[1;37m                                   ^\u001b[0m\n\u001b[1;31mSyntaxError\u001b[0m\u001b[1;31m:\u001b[0m invalid syntax\n"
     ]
    }
   ],
   "source": [
    "\"Hællå, wørld!\".encode(\"ASCII\")Traceback (most recent call last):  ...UnicodeEncodeError: 'ascii' codec can't encode character '\\xe6' in position 1: ordinal not in range(128)"
   ]
  },
  {
   "cell_type": "code",
   "execution_count": 73,
   "id": "63a080de-e8a4-427a-b11e-b28c5702e742",
   "metadata": {},
   "outputs": [
    {
     "ename": "SyntaxError",
     "evalue": "invalid syntax (2164482489.py, line 1)",
     "output_type": "error",
     "traceback": [
      "\u001b[1;36m  Cell \u001b[1;32mIn[73], line 1\u001b[1;36m\u001b[0m\n\u001b[1;33m    \"Hællå, wørld!\".encode(\"ASCII\")Traceback (most recent call last):\u001b[0m\n\u001b[1;37m                                   ^\u001b[0m\n\u001b[1;31mSyntaxError\u001b[0m\u001b[1;31m:\u001b[0m invalid syntax\n"
     ]
    }
   ],
   "source": [
    "\"Hællå, wørld!\".encode(\"ASCII\")Traceback (most recent call last):"
   ]
  },
  {
   "cell_type": "code",
   "execution_count": 74,
   "id": "1549a1d7-8ef3-4f8c-9900-9d6b5cf96c8b",
   "metadata": {},
   "outputs": [
    {
     "ename": "SyntaxError",
     "evalue": "invalid syntax (117181928.py, line 1)",
     "output_type": "error",
     "traceback": [
      "\u001b[1;36m  Cell \u001b[1;32mIn[74], line 1\u001b[1;36m\u001b[0m\n\u001b[1;33m    \"Hællå, wørld!\".encode(\"ASCII\")Traceback (most recent call last):  ...\u001b[0m\n\u001b[1;37m                                   ^\u001b[0m\n\u001b[1;31mSyntaxError\u001b[0m\u001b[1;31m:\u001b[0m invalid syntax\n"
     ]
    }
   ],
   "source": [
    "\"Hællå, wørld!\".encode(\"ASCII\")Traceback (most recent call last):  ..."
   ]
  },
  {
   "cell_type": "code",
   "execution_count": 75,
   "id": "8f2dfd76-ddf2-4dfd-b784-073b6ab5e26c",
   "metadata": {},
   "outputs": [
    {
     "ename": "UnicodeEncodeError",
     "evalue": "'ascii' codec can't encode character '\\xe6' in position 1: ordinal not in range(128)",
     "output_type": "error",
     "traceback": [
      "\u001b[1;31m---------------------------------------------------------------------------\u001b[0m",
      "\u001b[1;31mUnicodeEncodeError\u001b[0m                        Traceback (most recent call last)",
      "Cell \u001b[1;32mIn[75], line 1\u001b[0m\n\u001b[1;32m----> 1\u001b[0m \u001b[38;5;124m\"\u001b[39m\u001b[38;5;124mHællå, wørld!\u001b[39m\u001b[38;5;124m\"\u001b[39m\u001b[38;5;241m.\u001b[39mencode(\u001b[38;5;124m\"\u001b[39m\u001b[38;5;124mASCII\u001b[39m\u001b[38;5;124m\"\u001b[39m)\n",
      "\u001b[1;31mUnicodeEncodeError\u001b[0m: 'ascii' codec can't encode character '\\xe6' in position 1: ordinal not in range(128)"
     ]
    }
   ],
   "source": [
    "\"Hællå, wørld!\".encode(\"ASCII\")"
   ]
  },
  {
   "cell_type": "code",
   "execution_count": 76,
   "id": "329ac254-5f85-472a-8529-cf4110c70686",
   "metadata": {},
   "outputs": [
    {
     "data": {
      "text/plain": [
       "b'Hll, wrld!'"
      ]
     },
     "execution_count": 76,
     "metadata": {},
     "output_type": "execute_result"
    }
   ],
   "source": [
    "\"Hællå, wørld!\".encode(\"ASCII\", \"ignore\")"
   ]
  },
  {
   "cell_type": "code",
   "execution_count": 77,
   "id": "13a584e3-33cb-409a-9caa-dc5a2475c263",
   "metadata": {},
   "outputs": [
    {
     "data": {
      "text/plain": [
       "b'H?ll?, w?rld!'"
      ]
     },
     "execution_count": 77,
     "metadata": {},
     "output_type": "execute_result"
    }
   ],
   "source": [
    "\"Hællå, wørld!\".encode(\"ASCII\", \"replace\")"
   ]
  },
  {
   "cell_type": "code",
   "execution_count": 78,
   "id": "b54f38e0-2be5-4f72-bdb9-74369fe5e4de",
   "metadata": {},
   "outputs": [
    {
     "data": {
      "text/plain": [
       "b'H\\\\xe6ll\\\\xe5, w\\\\xf8rld!'"
      ]
     },
     "execution_count": 78,
     "metadata": {},
     "output_type": "execute_result"
    }
   ],
   "source": [
    "\"Hællå, wørld!\".encode(\"ASCII\", \"backslashreplace\")"
   ]
  },
  {
   "cell_type": "markdown",
   "id": "554762f5-dd9e-4f59-a718-efbdba1f7d8a",
   "metadata": {},
   "source": [
    "反斜杠替换(backslashreplace)"
   ]
  },
  {
   "cell_type": "code",
   "execution_count": 81,
   "id": "17dd17ef-30f8-43c4-8e0f-d80a4ec27a42",
   "metadata": {},
   "outputs": [
    {
     "data": {
      "text/plain": [
       "b'H&#230;ll&#229;, w&#248;rld!'"
      ]
     },
     "execution_count": 81,
     "metadata": {},
     "output_type": "execute_result"
    }
   ],
   "source": [
    " \"Hællå, wørld!\".encode(\"ASCII\", \"xmlcharrefreplace\")"
   ]
  },
  {
   "cell_type": "code",
   "execution_count": 82,
   "id": "6323fd5a-6a98-400a-a835-375679908fe3",
   "metadata": {},
   "outputs": [
    {
     "data": {
      "text/plain": [
       "b'H\\xc3\\xa6ll\\xc3\\xa5, w\\xc3\\xb8rld!'"
      ]
     },
     "execution_count": 82,
     "metadata": {},
     "output_type": "execute_result"
    }
   ],
   "source": [
    "\"Hællå, wørld!\".encode()"
   ]
  },
  {
   "cell_type": "markdown",
   "id": "de556054-7652-48fc-87c6-884ccfb7e56c",
   "metadata": {},
   "source": [
    "b'H\\xc3\\xa6ll\\xc3\\xa5, w\\xc3\\xb8rld!'.decode()"
   ]
  },
  {
   "cell_type": "markdown",
   "id": "f10c228e-5a82-4753-a6bf-4917a20c5f82",
   "metadata": {},
   "source": [
    "默认编码是 UTF-8"
   ]
  },
  {
   "cell_type": "code",
   "execution_count": 84,
   "id": "45f4097a-a1d0-4f4e-bca3-4dbc9553495c",
   "metadata": {},
   "outputs": [
    {
     "data": {
      "text/plain": [
       "b'H\\xc3\\xa6ll\\xc3\\xa5, w\\xc3\\xb8rld!'"
      ]
     },
     "execution_count": 84,
     "metadata": {},
     "output_type": "execute_result"
    }
   ],
   "source": [
    "bytes(\"Hællå, wørld!\", encoding=\"utf-8\")"
   ]
  },
  {
   "cell_type": "code",
   "execution_count": 85,
   "id": "d60a76c4-b0a1-42ad-9a09-8d587b424ea0",
   "metadata": {},
   "outputs": [
    {
     "data": {
      "text/plain": [
       "'Hællå, wørld!'"
      ]
     },
     "execution_count": 85,
     "metadata": {},
     "output_type": "execute_result"
    }
   ],
   "source": [
    "str(b'H\\xc3\\xa6ll\\xc3\\xa5, w\\xc3\\xb8rld!', encoding=\"utf-8\")"
   ]
  },
  {
   "cell_type": "markdown",
   "id": "91d3ef6c-902b-4e23-9a73-84347da99457",
   "metadata": {},
   "source": [
    "Rather than using the encode and decode methods, you might want to simply construct the bytes and str (i.e., string) objects,"
   ]
  },
  {
   "cell_type": "code",
   "execution_count": 86,
   "id": "d91f29b1-8410-441b-85b2-df9d96f106f2",
   "metadata": {},
   "outputs": [],
   "source": [
    "# -*- coding: encoding name -*-"
   ]
  },
  {
   "cell_type": "code",
   "execution_count": 87,
   "id": "a5f77c3e-1d7b-4eb1-95b2-9855b7f2b6e2",
   "metadata": {},
   "outputs": [
    {
     "data": {
      "text/plain": [
       "bytearray(b'Hullo!')"
      ]
     },
     "execution_count": 87,
     "metadata": {},
     "output_type": "execute_result"
    }
   ],
   "source": [
    "x=bytearray(b\"Hello!\")\n",
    "x[1]=ord(b\"u\")\n",
    "x"
   ]
  },
  {
   "cell_type": "markdown",
   "id": "89442c09-ff5d-4196-b6ab-9e308492f5fd",
   "metadata": {},
   "source": [
    "我们有 bytearray，它是 bytes 的一个可变版本。从某种意义上说，它就像一个字符串，你可以修改其中的字符 —— 这是普通字符串做不到的。不过，它的设计更多是为了在后台使用，若当作类字符串来用，其实并不那么便于用户操作。例如，要替换一个字符，你必须给它赋值一个 0……255 范围内的整数。所以，如果你真的想插入一个字符，就得用 ord 函数获取它的序数。"
   ]
  },
  {
   "cell_type": "markdown",
   "id": "844a52ba-fbb4-4a0d-9706-f8d1a112263d",
   "metadata": {},
   "source": [
    "ord 是 Python 内置函数，作用是将单个字符（长度为 1 的字符串）转换为对应的 Unicode 码点（一个非负整数）。"
   ]
  },
  {
   "cell_type": "code",
   "execution_count": 88,
   "id": "ff938d2b-54a9-4872-92b0-e8507337c84b",
   "metadata": {},
   "outputs": [
    {
     "name": "stdout",
     "output_type": "stream",
     "text": [
      "10084\n"
     ]
    }
   ],
   "source": [
    "print(ord('❤'))"
   ]
  },
  {
   "cell_type": "code",
   "execution_count": 89,
   "id": "3cbdb197-d077-47ed-84af-5403e8ba1b0f",
   "metadata": {},
   "outputs": [
    {
     "data": {
      "text/plain": [
       "bytearray(b'Heulo!')"
      ]
     },
     "execution_count": 89,
     "metadata": {},
     "output_type": "execute_result"
    }
   ],
   "source": [
    "x=bytearray(b\"Hello!\")\n",
    "x[2]=ord(b\"u\")\n",
    "x"
   ]
  },
  {
   "cell_type": "code",
   "execution_count": 90,
   "id": "55b96caa-453f-430c-a4bf-59d3089e8edb",
   "metadata": {},
   "outputs": [
    {
     "ename": "TypeError",
     "evalue": "ord() expected a character, but string of length 3 found",
     "output_type": "error",
     "traceback": [
      "\u001b[1;31m---------------------------------------------------------------------------\u001b[0m",
      "\u001b[1;31mTypeError\u001b[0m                                 Traceback (most recent call last)",
      "Cell \u001b[1;32mIn[90], line 2\u001b[0m\n\u001b[0;32m      1\u001b[0m x\u001b[38;5;241m=\u001b[39m\u001b[38;5;28mbytearray\u001b[39m(\u001b[38;5;124mb\u001b[39m\u001b[38;5;124m\"\u001b[39m\u001b[38;5;124mHello!\u001b[39m\u001b[38;5;124m\"\u001b[39m)\n\u001b[1;32m----> 2\u001b[0m x[\u001b[38;5;241m1\u001b[39m]\u001b[38;5;241m=\u001b[39m\u001b[38;5;28mord\u001b[39m(\u001b[38;5;124mb\u001b[39m\u001b[38;5;124m\"\u001b[39m\u001b[38;5;124m111\u001b[39m\u001b[38;5;124m\"\u001b[39m)\n\u001b[0;32m      3\u001b[0m x\n",
      "\u001b[1;31mTypeError\u001b[0m: ord() expected a character, but string of length 3 found"
     ]
    }
   ],
   "source": [
    "x=bytearray(b\"Hello!\")\n",
    "x[1]=ord(b\"111\")\n",
    "x"
   ]
  },
  {
   "cell_type": "code",
   "execution_count": 91,
   "id": "e96faf67-e28f-4534-ae5e-553599143c34",
   "metadata": {},
   "outputs": [
    {
     "data": {
      "text/plain": [
       "bytearray(b'H1llo!')"
      ]
     },
     "execution_count": 91,
     "metadata": {},
     "output_type": "execute_result"
    }
   ],
   "source": [
    "x=bytearray(b\"Hello!\")\n",
    "x[1]=ord(b\"1\")\n",
    "x"
   ]
  },
  {
   "cell_type": "code",
   "execution_count": 92,
   "id": "53abae31-bd36-4643-8f5d-32c4ddebb674",
   "metadata": {},
   "outputs": [
    {
     "ename": "SyntaxError",
     "evalue": "invalid character '，' (U+FF0C) (1384691880.py, line 2)",
     "output_type": "error",
     "traceback": [
      "\u001b[1;36m  Cell \u001b[1;32mIn[92], line 2\u001b[1;36m\u001b[0m\n\u001b[1;33m    x[1，2]=ord(b\"11\")\u001b[0m\n\u001b[1;37m       ^\u001b[0m\n\u001b[1;31mSyntaxError\u001b[0m\u001b[1;31m:\u001b[0m invalid character '，' (U+FF0C)\n"
     ]
    }
   ],
   "source": [
    "x=bytearray(b\"Hello!\")\n",
    "x[1，2]=ord(b\"11\")\n",
    "x"
   ]
  },
  {
   "cell_type": "code",
   "execution_count": 93,
   "id": "65dfb1ea-8b14-438f-ae3a-ae82a909869c",
   "metadata": {},
   "outputs": [
    {
     "ename": "TypeError",
     "evalue": "ord() expected a character, but string of length 3 found",
     "output_type": "error",
     "traceback": [
      "\u001b[1;31m---------------------------------------------------------------------------\u001b[0m",
      "\u001b[1;31mTypeError\u001b[0m                                 Traceback (most recent call last)",
      "Cell \u001b[1;32mIn[93], line 2\u001b[0m\n\u001b[0;32m      1\u001b[0m x\u001b[38;5;241m=\u001b[39m\u001b[38;5;28mbytearray\u001b[39m(\u001b[38;5;124mb\u001b[39m\u001b[38;5;124m\"\u001b[39m\u001b[38;5;124mHello!\u001b[39m\u001b[38;5;124m\"\u001b[39m)\n\u001b[1;32m----> 2\u001b[0m x[\u001b[38;5;241m1\u001b[39m\u001b[38;5;241m-\u001b[39m\u001b[38;5;241m3\u001b[39m]\u001b[38;5;241m=\u001b[39m\u001b[38;5;28mord\u001b[39m(\u001b[38;5;124mb\u001b[39m\u001b[38;5;124m\"\u001b[39m\u001b[38;5;124m111\u001b[39m\u001b[38;5;124m\"\u001b[39m)\n\u001b[0;32m      3\u001b[0m x\n",
      "\u001b[1;31mTypeError\u001b[0m: ord() expected a character, but string of length 3 found"
     ]
    }
   ],
   "source": [
    "x=bytearray(b\"Hello!\")\n",
    "x[1-3]=ord(b\"111\")\n",
    "x"
   ]
  },
  {
   "cell_type": "code",
   "execution_count": 94,
   "id": "da09f745-dc34-4055-84e4-768236840164",
   "metadata": {},
   "outputs": [
    {
     "ename": "TypeError",
     "evalue": "ord() expected a character, but string of length 3 found",
     "output_type": "error",
     "traceback": [
      "\u001b[1;31m---------------------------------------------------------------------------\u001b[0m",
      "\u001b[1;31mTypeError\u001b[0m                                 Traceback (most recent call last)",
      "Cell \u001b[1;32mIn[94], line 2\u001b[0m\n\u001b[0;32m      1\u001b[0m x\u001b[38;5;241m=\u001b[39m\u001b[38;5;28mbytearray\u001b[39m(\u001b[38;5;124mb\u001b[39m\u001b[38;5;124m\"\u001b[39m\u001b[38;5;124mHello!\u001b[39m\u001b[38;5;124m\"\u001b[39m)\n\u001b[1;32m----> 2\u001b[0m x[\u001b[38;5;241m1\u001b[39m:\u001b[38;5;241m3\u001b[39m]\u001b[38;5;241m=\u001b[39m\u001b[38;5;28mord\u001b[39m(\u001b[38;5;124mb\u001b[39m\u001b[38;5;124m\"\u001b[39m\u001b[38;5;124m111\u001b[39m\u001b[38;5;124m\"\u001b[39m)\n\u001b[0;32m      3\u001b[0m x\n",
      "\u001b[1;31mTypeError\u001b[0m: ord() expected a character, but string of length 3 found"
     ]
    }
   ],
   "source": [
    "x=bytearray(b\"Hello!\")\n",
    "x[1:3]=ord(b\"111\")\n",
    "x"
   ]
  },
  {
   "cell_type": "code",
   "execution_count": 95,
   "id": "6c24a941-3716-4395-93c3-8528f1798309",
   "metadata": {},
   "outputs": [
    {
     "ename": "TypeError",
     "evalue": "ord() expected a character, but string of length 3 found",
     "output_type": "error",
     "traceback": [
      "\u001b[1;31m---------------------------------------------------------------------------\u001b[0m",
      "\u001b[1;31mTypeError\u001b[0m                                 Traceback (most recent call last)",
      "Cell \u001b[1;32mIn[95], line 2\u001b[0m\n\u001b[0;32m      1\u001b[0m x\u001b[38;5;241m=\u001b[39m\u001b[38;5;28mbytearray\u001b[39m(\u001b[38;5;124mb\u001b[39m\u001b[38;5;124m\"\u001b[39m\u001b[38;5;124mHello!\u001b[39m\u001b[38;5;124m\"\u001b[39m)\n\u001b[1;32m----> 2\u001b[0m x[\u001b[38;5;241m1\u001b[39m,\u001b[38;5;241m3\u001b[39m]\u001b[38;5;241m=\u001b[39m\u001b[38;5;28mord\u001b[39m(\u001b[38;5;124mb\u001b[39m\u001b[38;5;124m\"\u001b[39m\u001b[38;5;124m111\u001b[39m\u001b[38;5;124m\"\u001b[39m)\n\u001b[0;32m      3\u001b[0m x\n",
      "\u001b[1;31mTypeError\u001b[0m: ord() expected a character, but string of length 3 found"
     ]
    }
   ],
   "source": [
    "x=bytearray(b\"Hello!\")\n",
    "x[1,3]=ord(b\"111\")\n",
    "x"
   ]
  },
  {
   "cell_type": "code",
   "execution_count": 96,
   "id": "f68e31fd-cdf6-472a-80e6-05b2c43213eb",
   "metadata": {},
   "outputs": [
    {
     "ename": "TypeError",
     "evalue": "ord() expected a character, but string of length 3 found",
     "output_type": "error",
     "traceback": [
      "\u001b[1;31m---------------------------------------------------------------------------\u001b[0m",
      "\u001b[1;31mTypeError\u001b[0m                                 Traceback (most recent call last)",
      "Cell \u001b[1;32mIn[96], line 2\u001b[0m\n\u001b[0;32m      1\u001b[0m x\u001b[38;5;241m=\u001b[39m\u001b[38;5;28mbytearray\u001b[39m(\u001b[38;5;124mb\u001b[39m\u001b[38;5;124m\"\u001b[39m\u001b[38;5;124mHello!\u001b[39m\u001b[38;5;124m\"\u001b[39m)\n\u001b[1;32m----> 2\u001b[0m x[\u001b[38;5;241m1\u001b[39m,\u001b[38;5;241m3\u001b[39m]\u001b[38;5;241m=\u001b[39m\u001b[38;5;28mord\u001b[39m(\u001b[38;5;124mb\u001b[39m\u001b[38;5;124m\"\u001b[39m\u001b[38;5;124m111\u001b[39m\u001b[38;5;124m\"\u001b[39m)\n\u001b[0;32m      3\u001b[0m x\n",
      "\u001b[1;31mTypeError\u001b[0m: ord() expected a character, but string of length 3 found"
     ]
    }
   ],
   "source": [
    "x=bytearray(b\"Hello!\")\n",
    "x[1,3]=ord(b\"111\")\n",
    "x"
   ]
  },
  {
   "cell_type": "markdown",
   "id": "2599c7f3-873b-4826-8bca-029478901060",
   "metadata": {},
   "source": [
    "ord只支持单个字符"
   ]
  },
  {
   "cell_type": "code",
   "execution_count": 97,
   "id": "93be4153-d8a9-4c7d-be13-3b2f150ad009",
   "metadata": {},
   "outputs": [
    {
     "name": "stdout",
     "output_type": "stream",
     "text": [
      "bytearray(b'H111o!')\n",
      "H111o!\n"
     ]
    }
   ],
   "source": [
    "# 1. 初始化 bytearray（原始值：b\"Hello!\"，对应字符 H e l l o !）\n",
    "x = bytearray(b\"Hello!\")\n",
    "# 2. 修正：切片1~4（替换索引1、2、3的3个字符），赋值为 b\"111\"\n",
    "x[1:4] = b\"111\"\n",
    "# 3. 查看结果\n",
    "print(x)  # 输出：bytearray(b'H111o!')（替换后字符：H 1 1 1 o !）\n",
    "print(x.decode(\"utf-8\"))  # 解码为字符串，更直观：H111o!"
   ]
  },
  {
   "cell_type": "markdown",
   "id": "36442dee-8a7f-456e-a9b2-eaa27d6bf284",
   "metadata": {},
   "source": [
    "abs (number) 返回一个数的绝对值。\n",
    "\n",
    "bytes (string, encoding [, errors]) 对给定的字符串进行编码，并指定错误处理方式。\n",
    "\n",
    "cmath.sqrt (number) 用于计算 任意数字（实数或复数）的平方根，且返回结果始终为 复数类型\n",
    "\n",
    "float (object) 将字符串或数字转换为浮点数（带小数点的数值，如 3.14、5.0）。\n",
    "\n",
    "help ([object]) 提供交互式帮助。当传入 object（如函数、类、模块、关键字等）时，直接输出该对象的详细帮助信息（包括功能说明、参数含义、返回值、使用示例等）；\n",
    "当不传入任何参数时，自动进入交互式帮助模式—— 提供一个可实时查询、逐句导航的帮助环境，相当于 “Python 内置的离线文档”。\n",
    "\n",
    "input (prompt) 获取用户输入的字符串。\n",
    "\n",
    "int (object) 将字符串或数字转换为整数。\n",
    "\n",
    "math.ceil (number) 返回一个数的上舍入值，结果为浮点数。\n",
    "\n",
    "math.floor (number) 返回一个数的下舍入值，结果为浮点数。\n",
    "\n",
    "math.sqrt (number) 返回平方根；不适用于负数。\n",
    "\n",
    "pow (x, y [, z]) 返回 x 的 y 次幂（对 z 取模）。\n",
    "\n",
    "print (object, ...) 打印参数，参数之间用空格分隔。\n",
    "\n",
    "repr (object) 返回一个值的字符串表示形式。\n",
    "\n",
    "round (number [, ndigits]) 将一个数四舍五入到指定的精度，当出现平局时舍入到偶数。\n",
    "\n",
    "str (object) 将一个值转换为字符串。"
   ]
  },
  {
   "cell_type": "code",
   "execution_count": null,
   "id": "9ac1b628-b2fb-4de7-a9b4-0f293fba4c54",
   "metadata": {},
   "outputs": [],
   "source": []
  }
 ],
 "metadata": {
  "kernelspec": {
   "display_name": "Python [conda env:base] *",
   "language": "python",
   "name": "conda-base-py"
  },
  "language_info": {
   "codemirror_mode": {
    "name": "ipython",
    "version": 3
   },
   "file_extension": ".py",
   "mimetype": "text/x-python",
   "name": "python",
   "nbconvert_exporter": "python",
   "pygments_lexer": "ipython3",
   "version": "3.13.5"
  }
 },
 "nbformat": 4,
 "nbformat_minor": 5
}
